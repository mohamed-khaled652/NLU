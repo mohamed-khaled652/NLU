{
 "cells": [
  {
   "cell_type": "code",
   "execution_count": null,
   "metadata": {
    "_cell_guid": "b1076dfc-b9ad-4769-8c92-a6c4dae69d19",
    "_uuid": "8f2839f25d086af736a60e9eeb907d3b93b6e0e5",
    "execution": {
     "iopub.execute_input": "2025-05-03T13:59:38.935599Z",
     "iopub.status.busy": "2025-05-03T13:59:38.934898Z",
     "iopub.status.idle": "2025-05-03T13:59:38.950570Z",
     "shell.execute_reply": "2025-05-03T13:59:38.949818Z",
     "shell.execute_reply.started": "2025-05-03T13:59:38.935577Z"
    },
    "trusted": true
   },
   "outputs": [
    {
     "name": "stdout",
     "output_type": "stream",
     "text": [
      "/kaggle/input/asap-2-0/ASAP2_train_sourcetexts.csv\n",
      "/kaggle/input/persuade-2-0/persuade_corpus_1.0.csv\n",
      "/kaggle/input/persuade-2-0/persuade_2.0_human_scores_demo_id_github.csv\n",
      "/kaggle/input/persuade-2-0/AES2-persuade.csv\n",
      "/kaggle/input/persuade-corpus-and-ellipse-corpus-combined/all_data.csv\n",
      "/kaggle/input/persuade-corpus-and-ellipse-corpus-combined/holistic_scores.csv\n",
      "/kaggle/input/persuade-corpus-and-ellipse-corpus-combined/scores_ell.csv\n",
      "/kaggle/input/persuade-corpus-and-ellipse-corpus-combined/scores_arguments.csv\n",
      "/kaggle/input/persuade-corpus-and-ellipse-corpus-combined/ell.csv\n"
     ]
    }
   ],
   "source": [
    "import numpy as np\n",
    "import pandas as pd\n",
    "import torch\n",
    "import torch.nn as nn\n",
    "import torch.nn.functional as F\n",
    "from torch.utils.data import Dataset\n",
    "from transformers import AutoModel, AutoTokenizer, AutoConfig\n",
    "import re\n",
    "import pandas as pd\n",
    "from tqdm import tqdm\n",
    "import os\n",
    "from collections import Counter\n",
    "from torch.utils.data import DataLoader\n",
    "import torch.optim as optim\n",
    "from sklearn.model_selection import train_test_split\n",
    "import json\n",
    "from sklearn.preprocessing import MinMaxScaler\n",
    "from sklearn.metrics import mean_squared_error, mean_absolute_error, r2_score\n",
    "import matplotlib.pyplot as plt\n",
    "from peft import get_peft_model, LoraConfig, TaskType\n",
    "\n",
    "\n",
    "for dirname, _, filenames in os.walk('/kaggle/input'):\n",
    "    for filename in filenames:\n",
    "        print(os.path.join(dirname, filename))"
   ]
  },
  {
   "cell_type": "code",
   "execution_count": null,
   "metadata": {
    "execution": {
     "iopub.execute_input": "2025-05-03T14:08:35.304658Z",
     "iopub.status.busy": "2025-05-03T14:08:35.304033Z",
     "iopub.status.idle": "2025-05-03T14:08:35.327297Z",
     "shell.execute_reply": "2025-05-03T14:08:35.326545Z",
     "shell.execute_reply.started": "2025-05-03T14:08:35.304636Z"
    },
    "trusted": true
   },
   "outputs": [],
   "source": [
    "class DebertaRegressor(nn.Module):\n",
    "    def __init__(self, model_name=\"microsoft/deberta-v3-base\"):\n",
    "        super().__init__()\n",
    "        self.config = AutoConfig.from_pretrained(model_name)\n",
    "        self.deberta = AutoModel.from_pretrained(model_name, config=self.config)\n",
    "        self.regressor = nn.Linear(self.config.hidden_size, 1)\n",
    "        self.base_model = self.deberta\n",
    "\n",
    "    def mean_pooling(self, model_output, attention_mask):\n",
    "        token_embeddings = model_output.last_hidden_state\n",
    "        input_mask_expanded = attention_mask.unsqueeze(-1).expand(token_embeddings.size())\n",
    "        return (token_embeddings * input_mask_expanded).sum(1) / input_mask_expanded.sum(1)\n",
    "\n",
    "    def forward(self, input_ids=None, attention_mask=None, **kwargs):\n",
    "        \n",
    "        outputs = self.deberta(input_ids=input_ids, attention_mask=attention_mask, **kwargs)\n",
    "        pooled_output = self.mean_pooling(outputs, attention_mask)\n",
    "        score = self.regressor(pooled_output)\n",
    "        return score.squeeze(-1)\n",
    "\n",
    "\n",
    "\n",
    "\n",
    "class EssayDataset(Dataset):\n",
    "    def __init__(self, texts, scores, tokenizer, weights=None, max_length=512):\n",
    "        self.texts = texts\n",
    "        self.scores = scores\n",
    "        self.weights = weights\n",
    "        self.tokenizer = tokenizer\n",
    "        self.max_length = max_length\n",
    "\n",
    "    def __len__(self):\n",
    "        return len(self.texts)\n",
    "\n",
    "    def __getitem__(self, idx):\n",
    "        text = self.texts[idx]\n",
    "        score = self.scores[idx]\n",
    "\n",
    "        tokens = self.tokenizer(\n",
    "            text,\n",
    "            return_tensors=\"pt\",\n",
    "            max_length=self.max_length,\n",
    "            padding=\"max_length\",\n",
    "            truncation=True\n",
    "        )\n",
    "\n",
    "        input_ids = tokens[\"input_ids\"].squeeze(0)\n",
    "        attention_mask = tokens[\"attention_mask\"].squeeze(0)\n",
    "\n",
    "        item = {\n",
    "            \"input_ids\": input_ids,\n",
    "            \"attention_mask\": attention_mask,\n",
    "            \"score\": torch.tensor(score, dtype=torch.float)\n",
    "        }\n",
    "\n",
    "        if self.weights is not None:\n",
    "            item[\"weight\"] = torch.tensor(self.weights[idx], dtype=torch.float)\n",
    "\n",
    "        return item\n",
    "\n",
    "\n",
    "\n",
    "\n",
    "def train_epoch(model, dataloader, optimizer, device):\n",
    "    model.train()\n",
    "    all_preds = []\n",
    "    all_targets = []\n",
    "\n",
    "    progress_bar = tqdm(dataloader, desc=\"Training\", leave=False)\n",
    "\n",
    "    for batch in progress_bar:\n",
    "        input_ids = batch[\"input_ids\"].to(device)\n",
    "        attention_mask = batch[\"attention_mask\"].to(device)\n",
    "        scores = batch[\"score\"].to(device)\n",
    "\n",
    "        optimizer.zero_grad()\n",
    "        predictions = model(input_ids=input_ids, attention_mask=attention_mask)\n",
    "        weights = batch[\"weight\"].to(device)\n",
    "        loss = torch.mean(weights * (predictions - scores) ** 2)\n",
    "\n",
    "        loss.backward()\n",
    "        torch.nn.utils.clip_grad_norm_(model.parameters(), 1.0)\n",
    "        optimizer.step()\n",
    "\n",
    "        all_preds.extend(predictions.detach().cpu().numpy())\n",
    "        all_targets.extend(scores.detach().cpu().numpy())\n",
    "\n",
    "        progress_bar.set_postfix(loss=loss.item())\n",
    "\n",
    "    mse = mean_squared_error(all_targets, all_preds)\n",
    "    mae = mean_absolute_error(all_targets, all_preds)\n",
    "    r2 = r2_score(all_targets, all_preds)\n",
    "\n",
    "    metrics = {\n",
    "        \"MSE\": mse,\n",
    "        \"MAE\": mae,\n",
    "        \"R2\": r2\n",
    "    }\n",
    "\n",
    "    return metrics\n",
    "\n",
    "\n",
    "def evaluate(model, dataloader, device):\n",
    "    model.eval()\n",
    "    predictions_list = []\n",
    "    targets_list = []\n",
    "\n",
    "    with torch.no_grad():\n",
    "        for batch in tqdm(dataloader, desc=\"Evaluating\", leave=False):\n",
    "            input_ids = batch[\"input_ids\"].to(device)\n",
    "            attention_mask = batch[\"attention_mask\"].to(device)\n",
    "            scores = batch[\"score\"].to(device)\n",
    "\n",
    "            preds = model(input_ids=input_ids, attention_mask=attention_mask)\n",
    "\n",
    "            predictions_list.extend(preds.cpu().numpy())\n",
    "            targets_list.extend(scores.cpu().numpy())\n",
    "\n",
    "    predictions_array = np.array(predictions_list)\n",
    "    targets_array = np.array(targets_list)\n",
    "\n",
    "    mse = mean_squared_error(targets_array, predictions_array)\n",
    "    mae = mean_absolute_error(targets_array, predictions_array)\n",
    "    r2 = r2_score(targets_array, predictions_array)\n",
    "\n",
    "    metrics = {\n",
    "        \"MSE\": mse,\n",
    "        \"MAE\": mae,\n",
    "        \"R2\": r2\n",
    "    }\n",
    "\n",
    "    return metrics, predictions_list, targets_list\n",
    "\n",
    "\n",
    "\n",
    "def clean_text(text):\n",
    "    text = text.lower()\n",
    "    text = re.sub(r'<[^>]+>', ' ', text)              \n",
    "    text = re.sub(r'https?://\\S+|www\\.\\S+', '', text) \n",
    "    text = re.sub(r\"[^a-z0-9.,!?'\\s]\", ' ', text)      \n",
    "    text = re.sub(r'\\s+', ' ', text).strip()           \n",
    "    return text\n",
    "\n",
    "\n",
    "def load_dataset(scale_scores=True, min_len=30):\n",
    "\n",
    "    df1 = pd.read_csv(\"/kaggle/input/asap-2-0/ASAP2_train_sourcetexts.csv\") \n",
    "    df2 = pd.read_csv(\"/kaggle/input/persuade-2-0/persuade_2.0_human_scores_demo_id_github.csv\")\n",
    "    df3 = pd.read_csv(\"/kaggle/input/persuade-2-0/AES2-persuade.csv\")\n",
    "    df4 = pd.read_csv(\"/kaggle/input/persuade-corpus-and-ellipse-corpus-combined/all_data.csv\")\n",
    "    df5 = pd.read_csv(\"/kaggle/input/persuade-corpus-and-ellipse-corpus-combined/holistic_scores.csv\")\n",
    "    df6 = pd.read_csv(\"/kaggle/input/persuade-corpus-and-ellipse-corpus-combined/scores_ell.csv\")\n",
    "    df7 = pd.read_csv(\"/kaggle/input/persuade-corpus-and-ellipse-corpus-combined/scores_arguments.csv\")\n",
    "\n",
    " \n",
    "    for df in [df2, df4, df5, df6, df7]:\n",
    "        df.rename(columns={'holistic_essay_score': 'score'}, inplace=True)\n",
    "\n",
    "  \n",
    "    df = pd.concat([\n",
    "        df1[['full_text', 'score']],\n",
    "        df2[['full_text', 'score']],\n",
    "        df3[['full_text', 'score']],\n",
    "        df5[['full_text', 'score']],\n",
    "        df6[['full_text', 'score']],\n",
    "        df7[['full_text', 'score']]\n",
    "    ], ignore_index=True)\n",
    "\n",
    "\n",
    "    if scale_scores:\n",
    "        scaler_main = MinMaxScaler()\n",
    "        df['score'] = scaler_main.fit_transform(df[['score']])\n",
    "\n",
    "        scaler_df4 = MinMaxScaler()\n",
    "        df4['score'] = scaler_df4.fit_transform(df4[['score']])  \n",
    "\n",
    "\n",
    "    df = pd.concat([\n",
    "        df[['full_text', 'score']],\n",
    "        df4[['full_text', 'score']]\n",
    "    ], ignore_index=True)\n",
    "\n",
    "\n",
    "    df = df.dropna(subset=['full_text', 'score'])\n",
    "    df = df.drop_duplicates(subset='full_text').reset_index(drop=True)\n",
    "\n",
    "\n",
    "    df = df.sample(frac=1, random_state=42).reset_index(drop=True)\n",
    "\n",
    "\n",
    "    df = df[df['full_text'].str.strip() != \"\"]\n",
    "    df['essay'] = df['full_text'].apply(clean_text)\n",
    "    df = df[df['essay'].str.split().apply(len) >= min_len]\n",
    "    df = df[['essay', 'score']]\n",
    "\n",
    "    return df\n",
    "\n",
    "def save_structured_output(texts, predictions, targets, output_prefix=\"structured_output\"):\n",
    "    structured_data = []\n",
    "\n",
    "    for i in range(len(texts)):\n",
    "        item = {\n",
    "            \"essay_id\": i,\n",
    "            \"essay_text\": texts[i],\n",
    "            \"predicted_score\": round(float(predictions[i]), 2),\n",
    "            \"actual_score\": float(targets[i])\n",
    "        }\n",
    "        structured_data.append(item)\n",
    "\n",
    "    \n",
    "    with open(f\"{output_prefix}.json\", \"w\", encoding=\"utf-8\") as f_json:\n",
    "        json.dump(structured_data, f_json, indent=4)\n",
    "\n",
    "def compute_score_weights(scores, num_bins=20):\n",
    "    binned_scores = pd.qcut(scores, q=num_bins, duplicates='drop')\n",
    "    bin_counts = Counter(binned_scores)\n",
    "    bin_weights = {k: 1.0 / v for k, v in bin_counts.items()}\n",
    "    weights = binned_scores.map(bin_weights).values\n",
    "    return weights"
   ]
  },
  {
   "cell_type": "code",
   "execution_count": 120,
   "metadata": {
    "execution": {
     "iopub.execute_input": "2025-05-03T14:09:24.576818Z",
     "iopub.status.busy": "2025-05-03T14:09:24.576474Z",
     "iopub.status.idle": "2025-05-03T14:09:36.708748Z",
     "shell.execute_reply": "2025-05-03T14:09:36.707859Z",
     "shell.execute_reply.started": "2025-05-03T14:09:24.576797Z"
    },
    "trusted": true
   },
   "outputs": [],
   "source": [
    "df = load_dataset()\n"
   ]
  },
  {
   "cell_type": "code",
   "execution_count": 161,
   "metadata": {
    "execution": {
     "iopub.execute_input": "2025-05-03T17:53:57.070923Z",
     "iopub.status.busy": "2025-05-03T17:53:57.070263Z",
     "iopub.status.idle": "2025-05-03T17:53:57.245504Z",
     "shell.execute_reply": "2025-05-03T17:53:57.244785Z",
     "shell.execute_reply.started": "2025-05-03T17:53:57.070900Z"
    },
    "trusted": true
   },
   "outputs": [
    {
     "data": {
      "image/png": "[encoded data removed]",
      "text/plain": [
       "<Figure size 640x480 with 1 Axes>"
      ]
     },
     "metadata": {},
     "output_type": "display_data"
    }
   ],
   "source": [
    "import matplotlib.pyplot as plt\n",
    "plt.hist(df['score'], bins=50)\n",
    "plt.title(\"Score Distribution\")\n",
    "plt.show()\n"
   ]
  },
  {
   "cell_type": "code",
   "execution_count": null,
   "metadata": {
    "execution": {
     "execution_failed": "2025-05-03T23:50:32.850Z",
     "iopub.execute_input": "2025-05-03T14:09:36.711055Z",
     "iopub.status.busy": "2025-05-03T14:09:36.710355Z",
     "iopub.status.idle": "2025-05-03T14:09:36.772872Z"
    },
    "trusted": true
   },
   "outputs": [],
   "source": [
    "df['score'] = df['score'].apply(lambda x: 0.20 if x == 0.25 else x)\n",
    "\n",
    "weights = compute_score_weights(df['score'])\n",
    "df['weight'] = weights"
   ]
  },
  {
   "cell_type": "code",
   "execution_count": null,
   "metadata": {
    "execution": {
     "execution_failed": "2025-05-03T23:50:32.850Z",
     "iopub.execute_input": "2025-05-03T14:09:36.785476Z",
     "iopub.status.busy": "2025-05-03T14:09:36.785242Z",
     "iopub.status.idle": "2025-05-03T14:09:36.801068Z"
    },
    "trusted": true
   },
   "outputs": [
    {
     "data": {
      "text/html": [
       "<div>\n",
       "<style scoped>\n",
       "    .dataframe tbody tr th:only-of-type {\n",
       "        vertical-align: middle;\n",
       "    }\n",
       "\n",
       "    .dataframe tbody tr th {\n",
       "        vertical-align: top;\n",
       "    }\n",
       "\n",
       "    .dataframe thead th {\n",
       "        text-align: right;\n",
       "    }\n",
       "</style>\n",
       "<table border=\"1\" class=\"dataframe\">\n",
       "  <thead>\n",
       "    <tr style=\"text-align: right;\">\n",
       "      <th></th>\n",
       "      <th>essay</th>\n",
       "      <th>score</th>\n",
       "      <th>weight</th>\n",
       "    </tr>\n",
       "  </thead>\n",
       "  <tbody>\n",
       "    <tr>\n",
       "      <th>0</th>\n",
       "      <td>whether it's being on a sports team or taking ...</td>\n",
       "      <td>0.4</td>\n",
       "      <td>0.000078</td>\n",
       "    </tr>\n",
       "    <tr>\n",
       "      <th>1</th>\n",
       "      <td>driving and phones phones and driving have bee...</td>\n",
       "      <td>0.4</td>\n",
       "      <td>0.000078</td>\n",
       "    </tr>\n",
       "    <tr>\n",
       "      <th>2</th>\n",
       "      <td>space exploration is a growing topic. nasa has...</td>\n",
       "      <td>0.6</td>\n",
       "      <td>0.000103</td>\n",
       "    </tr>\n",
       "    <tr>\n",
       "      <th>3</th>\n",
       "      <td>some schools offer students the choice of lear...</td>\n",
       "      <td>1.0</td>\n",
       "      <td>0.001073</td>\n",
       "    </tr>\n",
       "    <tr>\n",
       "      <th>4</th>\n",
       "      <td>smart cars can be very helpful in many ways. b...</td>\n",
       "      <td>0.6</td>\n",
       "      <td>0.000103</td>\n",
       "    </tr>\n",
       "    <tr>\n",
       "      <th>...</th>\n",
       "      <td>...</td>\n",
       "      <td>...</td>\n",
       "      <td>...</td>\n",
       "    </tr>\n",
       "    <tr>\n",
       "      <th>37887</th>\n",
       "      <td>a car that you do not have to drive. it sounds...</td>\n",
       "      <td>0.6</td>\n",
       "      <td>0.000103</td>\n",
       "    </tr>\n",
       "    <tr>\n",
       "      <th>37888</th>\n",
       "      <td>thomas haung made a new technology called the ...</td>\n",
       "      <td>0.2</td>\n",
       "      <td>0.000094</td>\n",
       "    </tr>\n",
       "    <tr>\n",
       "      <th>37889</th>\n",
       "      <td>the case of the driveless cars how many movies...</td>\n",
       "      <td>0.6</td>\n",
       "      <td>0.000103</td>\n",
       "    </tr>\n",
       "    <tr>\n",
       "      <th>37890</th>\n",
       "      <td>according to the article, i support the author...</td>\n",
       "      <td>0.0</td>\n",
       "      <td>0.000094</td>\n",
       "    </tr>\n",
       "    <tr>\n",
       "      <th>37891</th>\n",
       "      <td>have you even seen the grand canyon, even if i...</td>\n",
       "      <td>0.4</td>\n",
       "      <td>0.000078</td>\n",
       "    </tr>\n",
       "  </tbody>\n",
       "</table>\n",
       "<p>37892 rows × 3 columns</p>\n",
       "</div>"
      ],
      "text/plain": [
       "                                                   essay  score    weight\n",
       "0      whether it's being on a sports team or taking ...    0.4  0.000078\n",
       "1      driving and phones phones and driving have bee...    0.4  0.000078\n",
       "2      space exploration is a growing topic. nasa has...    0.6  0.000103\n",
       "3      some schools offer students the choice of lear...    1.0  0.001073\n",
       "4      smart cars can be very helpful in many ways. b...    0.6  0.000103\n",
       "...                                                  ...    ...       ...\n",
       "37887  a car that you do not have to drive. it sounds...    0.6  0.000103\n",
       "37888  thomas haung made a new technology called the ...    0.2  0.000094\n",
       "37889  the case of the driveless cars how many movies...    0.6  0.000103\n",
       "37890  according to the article, i support the author...    0.0  0.000094\n",
       "37891  have you even seen the grand canyon, even if i...    0.4  0.000078\n",
       "\n",
       "[37892 rows x 3 columns]"
      ]
     },
     "execution_count": 123,
     "metadata": {},
     "output_type": "execute_result"
    }
   ],
   "source": [
    "df"
   ]
  },
  {
   "cell_type": "code",
   "execution_count": null,
   "metadata": {
    "execution": {
     "iopub.execute_input": "2025-05-03T14:09:39.354825Z",
     "iopub.status.busy": "2025-05-03T14:09:39.354307Z",
     "iopub.status.idle": "2025-05-03T14:09:42.086852Z",
     "shell.execute_reply": "2025-05-03T14:09:42.086241Z",
     "shell.execute_reply.started": "2025-05-03T14:09:39.354799Z"
    },
    "trusted": true
   },
   "outputs": [],
   "source": [
    "device = torch.device(\"cuda\" if torch.cuda.is_available() else \"cpu\")\n",
    "tokenizer = AutoTokenizer.from_pretrained(\"microsoft/deberta-v3-base\")"
   ]
  },
  {
   "cell_type": "code",
   "execution_count": null,
   "metadata": {
    "execution": {
     "iopub.execute_input": "2025-05-03T14:09:42.097020Z",
     "iopub.status.busy": "2025-05-03T14:09:42.096830Z",
     "iopub.status.idle": "2025-05-03T14:09:43.436035Z",
     "shell.execute_reply": "2025-05-03T14:09:43.435447Z",
     "shell.execute_reply.started": "2025-05-03T14:09:42.097005Z"
    },
    "trusted": true
   },
   "outputs": [],
   "source": [
    "base_model = DebertaRegressor().to(device)\n",
    "\n",
    "peft_config = LoraConfig(\n",
    "    task_type=TaskType.FEATURE_EXTRACTION  ,\n",
    "    inference_mode=False,\n",
    "    r=16,\n",
    "    lora_alpha=32,\n",
    "    lora_dropout=0.1,\n",
    "    target_modules=[\"query_proj\", \"key_proj\", \"value_proj\"]\n",
    ")\n",
    "\n",
    "\n",
    "model = get_peft_model(base_model, peft_config).to(device)"
   ]
  },
  {
   "cell_type": "code",
   "execution_count": 130,
   "metadata": {
    "execution": {
     "iopub.execute_input": "2025-05-03T14:11:40.624521Z",
     "iopub.status.busy": "2025-05-03T14:11:40.624202Z",
     "iopub.status.idle": "2025-05-03T14:11:40.651807Z",
     "shell.execute_reply": "2025-05-03T14:11:40.651059Z",
     "shell.execute_reply.started": "2025-05-03T14:11:40.624501Z"
    },
    "trusted": true
   },
   "outputs": [],
   "source": [
    "train_texts,test_texts, train_labels, test_labels = train_test_split(\n",
    "    df[\"essay\"], df[\"score\"],\n",
    "    test_size=0.2, random_state=42, stratify=df[\"score\"]\n",
    ")\n",
    "\n",
    "train_dataset = EssayDataset(train_texts.reset_index(drop=True), train_labels.reset_index(drop=True), tokenizer,df[\"weight\"])\n",
    "test_dataset = EssayDataset(test_texts.reset_index(drop=True), test_labels.reset_index(drop=True), tokenizer)\n",
    "\n",
    "\n",
    "train_loader = DataLoader(train_dataset, batch_size=8, shuffle=True)\n",
    "test_loader = DataLoader(test_dataset, batch_size=8, shuffle=False)\n",
    "\n",
    "optimizer = optim.AdamW(filter(lambda p: p.requires_grad, model.parameters()), lr=1e-5)"
   ]
  },
  {
   "cell_type": "code",
   "execution_count": 134,
   "metadata": {
    "execution": {
     "iopub.execute_input": "2025-05-03T14:12:22.590739Z",
     "iopub.status.busy": "2025-05-03T14:12:22.590463Z",
     "iopub.status.idle": "2025-05-03T14:51:19.011694Z",
     "shell.execute_reply": "2025-05-03T14:51:19.010912Z",
     "shell.execute_reply.started": "2025-05-03T14:12:22.590722Z"
    },
    "trusted": true
   },
   "outputs": [
    {
     "name": "stderr",
     "output_type": "stream",
     "text": [
      "                                                             \r"
     ]
    },
    {
     "name": "stdout",
     "output_type": "stream",
     "text": [
      "Before Training Metrics: {'MSE': 0.32246643, 'MAE': 0.52664673, 'R2': -5.36838691824615}\n",
      "Epoch: 1\n"
     ]
    },
    {
     "name": "stderr",
     "output_type": "stream",
     "text": [
      "                                                                           \r"
     ]
    },
    {
     "name": "stdout",
     "output_type": "stream",
     "text": [
      "Training Metrics: {'MSE': 0.032705754, 'MAE': 0.1363714, 'R2': 0.3543008451821288}\n"
     ]
    },
    {
     "name": "stderr",
     "output_type": "stream",
     "text": [
      "                                                             "
     ]
    },
    {
     "name": "stdout",
     "output_type": "stream",
     "text": [
      "After Training Metrics: {'MSE': 0.020623788, 'MAE': 0.113199286, 'R2': 0.5927009609303081}\n"
     ]
    },
    {
     "name": "stderr",
     "output_type": "stream",
     "text": [
      "\r"
     ]
    }
   ],
   "source": [
    "if __name__ == \"__main__\":\n",
    "    b_metrics, b_predictions, b_targets = evaluate(base_model, test_loader, device)\n",
    "    print(\"Before Training Metrics:\", b_metrics)\n",
    "    for epoch in range(1):\n",
    "        print(f\"Epoch: {epoch+1}\")\n",
    "        metrics = train_epoch(model, train_loader, optimizer, device)\n",
    "        print(\"Training Metrics:\", metrics)\n",
    "        a_metrics, a_predictions, a_targets = evaluate(model, test_loader, device)\n",
    "        print(\"After Training Metrics:\", a_metrics)"
   ]
  },
  {
   "cell_type": "code",
   "execution_count": 137,
   "metadata": {
    "execution": {
     "iopub.execute_input": "2025-05-03T14:52:26.396206Z",
     "iopub.status.busy": "2025-05-03T14:52:26.395550Z",
     "iopub.status.idle": "2025-05-03T17:13:45.695285Z",
     "shell.execute_reply": "2025-05-03T17:13:45.694464Z",
     "shell.execute_reply.started": "2025-05-03T14:52:26.396186Z"
    },
    "trusted": true
   },
   "outputs": [
    {
     "name": "stdout",
     "output_type": "stream",
     "text": [
      "Epoch: 1\n"
     ]
    },
    {
     "name": "stderr",
     "output_type": "stream",
     "text": [
      "                                                                           \r"
     ]
    },
    {
     "name": "stdout",
     "output_type": "stream",
     "text": [
      "Training Metrics: {'MSE': 0.018446852, 'MAE': 0.10634191, 'R2': 0.6358097812669602}\n"
     ]
    },
    {
     "name": "stderr",
     "output_type": "stream",
     "text": [
      "                                                             \r"
     ]
    },
    {
     "name": "stdout",
     "output_type": "stream",
     "text": [
      "After Training Metrics: {'MSE': 0.019403454, 'MAE': 0.10998999, 'R2': 0.6168013675584072}\n",
      "Epoch: 2\n"
     ]
    },
    {
     "name": "stderr",
     "output_type": "stream",
     "text": [
      "                                                                           \r"
     ]
    },
    {
     "name": "stdout",
     "output_type": "stream",
     "text": [
      "Training Metrics: {'MSE': 0.017203774, 'MAE': 0.1025111, 'R2': 0.6603514758122164}\n"
     ]
    },
    {
     "name": "stderr",
     "output_type": "stream",
     "text": [
      "                                                             \r"
     ]
    },
    {
     "name": "stdout",
     "output_type": "stream",
     "text": [
      "After Training Metrics: {'MSE': 0.01714507, 'MAE': 0.10270574, 'R2': 0.6614022020082075}\n",
      "Epoch: 3\n"
     ]
    },
    {
     "name": "stderr",
     "output_type": "stream",
     "text": [
      "                                                                           \r"
     ]
    },
    {
     "name": "stdout",
     "output_type": "stream",
     "text": [
      "Training Metrics: {'MSE': 0.016488796, 'MAE': 0.1005318, 'R2': 0.6744670370896738}\n"
     ]
    },
    {
     "name": "stderr",
     "output_type": "stream",
     "text": [
      "                                                             \r"
     ]
    },
    {
     "name": "stdout",
     "output_type": "stream",
     "text": [
      "After Training Metrics: {'MSE': 0.01637261, 'MAE': 0.10012179, 'R2': 0.6766574613950649}\n",
      "Epoch: 4\n"
     ]
    },
    {
     "name": "stderr",
     "output_type": "stream",
     "text": [
      "                                                                           \r"
     ]
    },
    {
     "name": "stdout",
     "output_type": "stream",
     "text": [
      "Training Metrics: {'MSE': 0.015890744, 'MAE': 0.09857491, 'R2': 0.6862741976009965}\n"
     ]
    },
    {
     "name": "stderr",
     "output_type": "stream",
     "text": [
      "                                                             "
     ]
    },
    {
     "name": "stdout",
     "output_type": "stream",
     "text": [
      "After Training Metrics: {'MSE': 0.016029477, 'MAE': 0.09938726, 'R2': 0.6834339802593296}\n"
     ]
    },
    {
     "name": "stderr",
     "output_type": "stream",
     "text": [
      "\r"
     ]
    }
   ],
   "source": [
    "for epoch in range(4):\n",
    "    print(f\"Epoch: {epoch+1}\")\n",
    "    metrics = train_epoch(model, train_loader, optimizer, device)\n",
    "    print(\"Training Metrics:\", metrics)\n",
    "    a_metrics, a_predictions, a_targets = evaluate(model, test_loader, device)\n",
    "    print(\"After Training Metrics:\", a_metrics)"
   ]
  },
  {
   "cell_type": "code",
   "execution_count": 162,
   "metadata": {
    "execution": {
     "iopub.execute_input": "2025-05-03T17:55:21.341622Z",
     "iopub.status.busy": "2025-05-03T17:55:21.341331Z",
     "iopub.status.idle": "2025-05-03T20:16:49.746719Z",
     "shell.execute_reply": "2025-05-03T20:16:49.745904Z",
     "shell.execute_reply.started": "2025-05-03T17:55:21.341601Z"
    },
    "trusted": true
   },
   "outputs": [
    {
     "name": "stdout",
     "output_type": "stream",
     "text": [
      "Epoch: 1\n"
     ]
    },
    {
     "name": "stderr",
     "output_type": "stream",
     "text": [
      "                                                                           \r"
     ]
    },
    {
     "name": "stdout",
     "output_type": "stream",
     "text": [
      "Training Metrics: {'MSE': 0.0153782815, 'MAE': 0.097080044, 'R2': 0.6963915681585666}\n"
     ]
    },
    {
     "name": "stderr",
     "output_type": "stream",
     "text": [
      "                                                             \r"
     ]
    },
    {
     "name": "stdout",
     "output_type": "stream",
     "text": [
      "After Training Metrics: {'MSE': 0.015491789, 'MAE': 0.09763971, 'R2': 0.6940527731513617}\n",
      "Epoch: 2\n"
     ]
    },
    {
     "name": "stderr",
     "output_type": "stream",
     "text": [
      "                                                                           \r"
     ]
    },
    {
     "name": "stdout",
     "output_type": "stream",
     "text": [
      "Training Metrics: {'MSE': 0.015073175, 'MAE': 0.09606682, 'R2': 0.7024151831253045}\n"
     ]
    },
    {
     "name": "stderr",
     "output_type": "stream",
     "text": [
      "                                                             \r"
     ]
    },
    {
     "name": "stdout",
     "output_type": "stream",
     "text": [
      "After Training Metrics: {'MSE': 0.015270889, 'MAE': 0.09720195, 'R2': 0.698415338959707}\n",
      "Epoch: 3\n"
     ]
    },
    {
     "name": "stderr",
     "output_type": "stream",
     "text": [
      "                                                                           \r"
     ]
    },
    {
     "name": "stdout",
     "output_type": "stream",
     "text": [
      "Training Metrics: {'MSE': 0.014742737, 'MAE': 0.095160805, 'R2': 0.7089389253495115}\n"
     ]
    },
    {
     "name": "stderr",
     "output_type": "stream",
     "text": [
      "                                                             \r"
     ]
    },
    {
     "name": "stdout",
     "output_type": "stream",
     "text": [
      "After Training Metrics: {'MSE': 0.015275694, 'MAE': 0.09746956, 'R2': 0.6983204169435275}\n",
      "Epoch: 4\n"
     ]
    },
    {
     "name": "stderr",
     "output_type": "stream",
     "text": [
      "                                                                           \r"
     ]
    },
    {
     "name": "stdout",
     "output_type": "stream",
     "text": [
      "Training Metrics: {'MSE': 0.0145828, 'MAE': 0.09452417, 'R2': 0.7120964987293911}\n"
     ]
    },
    {
     "name": "stderr",
     "output_type": "stream",
     "text": [
      "                                                             "
     ]
    },
    {
     "name": "stdout",
     "output_type": "stream",
     "text": [
      "After Training Metrics: {'MSE': 0.014822302, 'MAE': 0.095586106, 'R2': 0.7072744860001138}\n"
     ]
    },
    {
     "name": "stderr",
     "output_type": "stream",
     "text": [
      "\r"
     ]
    }
   ],
   "source": [
    "for epoch in range(4):\n",
    "    print(f\"Epoch: {epoch+1}\")\n",
    "    metrics = train_epoch(model, train_loader, optimizer, device)\n",
    "    print(\"Training Metrics:\", metrics)\n",
    "    a_metrics, a_predictions, a_targets = evaluate(model, test_loader, device)\n",
    "    print(\"After Training Metrics:\", a_metrics)"
   ]
  },
  {
   "cell_type": "code",
   "execution_count": 167,
   "metadata": {
    "execution": {
     "iopub.execute_input": "2025-05-03T20:33:00.520200Z",
     "iopub.status.busy": "2025-05-03T20:33:00.519912Z",
     "iopub.status.idle": "2025-05-03T22:18:52.763648Z",
     "shell.execute_reply": "2025-05-03T22:18:52.762804Z",
     "shell.execute_reply.started": "2025-05-03T20:33:00.520180Z"
    },
    "trusted": true
   },
   "outputs": [
    {
     "name": "stdout",
     "output_type": "stream",
     "text": [
      "Epoch: 1\n"
     ]
    },
    {
     "name": "stderr",
     "output_type": "stream",
     "text": [
      "                                                                           \r"
     ]
    },
    {
     "name": "stdout",
     "output_type": "stream",
     "text": [
      "Training Metrics: {'MSE': 0.014435273, 'MAE': 0.09416952, 'R2': 0.7150090801005146}\n"
     ]
    },
    {
     "name": "stderr",
     "output_type": "stream",
     "text": [
      "                                                             \r"
     ]
    },
    {
     "name": "stdout",
     "output_type": "stream",
     "text": [
      "After Training Metrics: {'MSE': 0.014640672, 'MAE': 0.0946707, 'R2': 0.7108614947120124}\n",
      "Epoch: 2\n"
     ]
    },
    {
     "name": "stderr",
     "output_type": "stream",
     "text": [
      "                                                                           \r"
     ]
    },
    {
     "name": "stdout",
     "output_type": "stream",
     "text": [
      "Training Metrics: {'MSE': 0.014301731, 'MAE': 0.09369821, 'R2': 0.7176455405571247}\n"
     ]
    },
    {
     "name": "stderr",
     "output_type": "stream",
     "text": [
      "                                                             \r"
     ]
    },
    {
     "name": "stdout",
     "output_type": "stream",
     "text": [
      "After Training Metrics: {'MSE': 0.014648863, 'MAE': 0.0947328, 'R2': 0.7106997031025842}\n",
      "Epoch: 3\n"
     ]
    },
    {
     "name": "stderr",
     "output_type": "stream",
     "text": [
      "                                                                           \r"
     ]
    },
    {
     "name": "stdout",
     "output_type": "stream",
     "text": [
      "Training Metrics: {'MSE': 0.014151326, 'MAE': 0.093339555, 'R2': 0.7206149469185641}\n"
     ]
    },
    {
     "name": "stderr",
     "output_type": "stream",
     "text": [
      "                                                             "
     ]
    },
    {
     "name": "stdout",
     "output_type": "stream",
     "text": [
      "After Training Metrics: {'MSE': 0.014370523, 'MAE': 0.09409412, 'R2': 0.7161966520231365}\n"
     ]
    },
    {
     "name": "stderr",
     "output_type": "stream",
     "text": [
      "\r"
     ]
    }
   ],
   "source": [
    "for epoch in range(3):\n",
    "    print(f\"Epoch: {epoch+1}\")\n",
    "    metrics = train_epoch(model, train_loader, optimizer, device)\n",
    "    print(\"Training Metrics:\", metrics)\n",
    "    a_metrics, a_predictions, a_targets = evaluate(model, test_loader, device)\n",
    "    print(\"After Training Metrics:\", a_metrics)"
   ]
  },
  {
   "cell_type": "code",
   "execution_count": 174,
   "metadata": {
    "execution": {
     "iopub.execute_input": "2025-05-03T22:25:17.051298Z",
     "iopub.status.busy": "2025-05-03T22:25:17.051013Z",
     "iopub.status.idle": "2025-05-03T23:35:41.099993Z",
     "shell.execute_reply": "2025-05-03T23:35:41.099273Z",
     "shell.execute_reply.started": "2025-05-03T22:25:17.051276Z"
    },
    "trusted": true
   },
   "outputs": [
    {
     "name": "stdout",
     "output_type": "stream",
     "text": [
      "Epoch: 1\n"
     ]
    },
    {
     "name": "stderr",
     "output_type": "stream",
     "text": [
      "                                                                           \r"
     ]
    },
    {
     "name": "stdout",
     "output_type": "stream",
     "text": [
      "Training Metrics: {'MSE': 0.014072696, 'MAE': 0.09309355, 'R2': 0.7221673043324939}\n"
     ]
    },
    {
     "name": "stderr",
     "output_type": "stream",
     "text": [
      "                                                             \r"
     ]
    },
    {
     "name": "stdout",
     "output_type": "stream",
     "text": [
      "After Training Metrics: {'MSE': 0.014298517, 'MAE': 0.093902364, 'R2': 0.7176186926517852}\n",
      "Epoch: 2\n"
     ]
    },
    {
     "name": "stderr",
     "output_type": "stream",
     "text": [
      "                                                                           \r"
     ]
    },
    {
     "name": "stdout",
     "output_type": "stream",
     "text": [
      "Training Metrics: {'MSE': 0.013953876, 'MAE': 0.09267935, 'R2': 0.7245131424677712}\n"
     ]
    },
    {
     "name": "stderr",
     "output_type": "stream",
     "text": [
      "                                                             "
     ]
    },
    {
     "name": "stdout",
     "output_type": "stream",
     "text": [
      "After Training Metrics: {'MSE': 0.014334895, 'MAE': 0.0942332, 'R2': 0.7169002882165522}\n"
     ]
    },
    {
     "name": "stderr",
     "output_type": "stream",
     "text": [
      "\r"
     ]
    }
   ],
   "source": [
    "for epoch in range(2):\n",
    "    print(f\"Epoch: {epoch+1}\")\n",
    "    metrics = train_epoch(model, train_loader, optimizer, device)\n",
    "    print(\"Training Metrics:\", metrics)\n",
    "    a_metrics, a_predictions, a_targets = evaluate(model, test_loader, device)\n",
    "    print(\"After Training Metrics:\", a_metrics)"
   ]
  },
  {
   "cell_type": "code",
   "execution_count": null,
   "metadata": {
    "execution": {
     "iopub.execute_input": "2025-05-03T23:45:34.197197Z",
     "iopub.status.busy": "2025-05-03T23:45:34.196741Z",
     "iopub.status.idle": "2025-05-03T23:45:34.950384Z",
     "shell.execute_reply": "2025-05-03T23:45:34.949755Z",
     "shell.execute_reply.started": "2025-05-03T23:45:34.197175Z"
    },
    "trusted": true
   },
   "outputs": [
    {
     "data": {
      "image/png": "[encoded data removed]",
      "text/plain": [
       "<Figure size 500x400 with 1 Axes>"
      ]
     },
     "metadata": {},
     "output_type": "display_data"
    },
    {
     "data": {
      "image/png": "[encoded data removed]",
      "text/plain": [
       "<Figure size 500x400 with 1 Axes>"
      ]
     },
     "metadata": {},
     "output_type": "display_data"
    },
    {
     "data": {
      "image/png": "[encoded data removed]",
      "text/plain": [
       "<Figure size 500x400 with 1 Axes>"
      ]
     },
     "metadata": {},
     "output_type": "display_data"
    },
    {
     "data": {
      "image/png": "[encoded data removed]",
      "text/plain": [
       "<Figure size 600x600 with 1 Axes>"
      ]
     },
     "metadata": {},
     "output_type": "display_data"
    }
   ],
   "source": [
    "metrics_to_plot = ['MSE', 'MAE', 'R2']\n",
    "b_values = [b_metrics[m] for m in metrics_to_plot]\n",
    "a_values = [a_metrics[m] for m in metrics_to_plot]\n",
    "\n",
    "for i, metric in enumerate(metrics_to_plot):\n",
    "    plt.figure(figsize=(5, 4))\n",
    "    plt.bar(['Before LoRA', 'After LoRA'], [b_values[i], a_values[i]], color=['skyblue', 'salmon'])\n",
    "    plt.title(f'{metric} Comparison')\n",
    "    plt.ylabel(metric)\n",
    "    plt.tight_layout()\n",
    "    plt.show()\n",
    "\n",
    "plt.figure(figsize=(6, 6))\n",
    "plt.scatter(b_targets, b_predictions, alpha=0.5, label=\"Before LoRA\")\n",
    "plt.scatter(a_targets, a_predictions, alpha=0.5, label=\"After LoRA\")\n",
    "min_val = min(min(b_targets), min(a_targets))\n",
    "max_val = max(max(b_targets), max(a_targets))\n",
    "plt.plot([min_val, max_val], [min_val, max_val], 'r--', label=\"Ideal\")\n",
    "plt.xlabel(\"Actual Scores\")\n",
    "plt.ylabel(\"Predicted Scores\")\n",
    "plt.title(\"Predicted vs Actual Scores\")\n",
    "plt.legend()\n",
    "plt.grid(True)\n",
    "plt.tight_layout()\n",
    "plt.show()"
   ]
  },
  {
   "cell_type": "code",
   "execution_count": 176,
   "metadata": {
    "execution": {
     "iopub.execute_input": "2025-05-03T23:45:20.928706Z",
     "iopub.status.busy": "2025-05-03T23:45:20.928180Z",
     "iopub.status.idle": "2025-05-03T23:45:21.061044Z",
     "shell.execute_reply": "2025-05-03T23:45:21.060557Z",
     "shell.execute_reply.started": "2025-05-03T23:45:20.928683Z"
    },
    "trusted": true
   },
   "outputs": [],
   "source": [
    "save_structured_output(test_texts.tolist(), a_predictions, a_targets, output_prefix=\"model_output_V1\")"
   ]
  },
  {
   "cell_type": "code",
   "execution_count": null,
   "metadata": {},
   "outputs": [
    {
     "name": "stdout",
     "output_type": "stream",
     "text": [
      "Feedback based on predicted score saved to 'model_final_outputs.json'.\n"
     ]
    }
   ],
   "source": [
    "def generate_feedback_based_on_prediction(predicted_score):\n",
    "    if predicted_score >= 0.6:\n",
    "        overall = \"This essay is strong overall, showing excellent organization, development of ideas, and clarity in expression.\"\n",
    "        strengths = \"Ideas are well-structured, arguments are persuasive, and language use is mostly mature and accurate.\"\n",
    "        improvements = \"Polish minor grammar issues and ensure transitions are smooth to reach perfection.\"\n",
    "    elif predicted_score >= 0.3:\n",
    "        overall = \"This essay is moderately effective, with some clear ideas but also noticeable issues in structure or grammar.\"\n",
    "        strengths = \"The essay communicates a clear message and shows effort in supporting ideas with examples.\"\n",
    "        improvements = \"Focus on improving sentence structure, grammar, and the logical flow between paragraphs.\"\n",
    "    else:\n",
    "        overall = \"This essay is underdeveloped and difficult to follow, with significant issues in structure and language.\"\n",
    "        strengths = \"The attempt to engage with the topic is visible.\"\n",
    "        improvements = \"Focus on organizing your thoughts clearly, using proper grammar, and fully developing your main ideas.\"\n",
    "\n",
    "    return {\n",
    "        \"overall_evaluation\": overall,\n",
    "        \"strengths\": strengths,\n",
    "        \"areas_for_improvement\": improvements\n",
    "    }\n",
    "\n",
    "with open(\"model_output_V1.json\", \"r\", encoding=\"utf-8\") as f:\n",
    "    essays = json.load(f)\n",
    "\n",
    "for essay in essays:\n",
    "    pred = essay.get(\"predicted_score\", 0.0)\n",
    "    essay[\"feedback\"] = generate_feedback_based_on_prediction(pred)\n",
    "\n",
    "with open(\"model_final_outputs.json\", \"w\", encoding=\"utf-8\") as f:\n",
    "    json.dump(essays, f, indent=4, ensure_ascii=False)\n",
    "\n",
    "print(\"Feedback based on predicted score saved to 'model_final_outputs.json'.\")"
   ]
  }
 ],
 "metadata": {
  "kaggle": {
   "accelerator": "gpu",
   "dataSources": [
    {
     "datasetId": 5044889,
     "sourceId": 8533513,
     "sourceType": "datasetVersion"
    },
    {
     "datasetId": 5450678,
     "sourceId": 9232133,
     "sourceType": "datasetVersion"
    },
    {
     "datasetId": 5585388,
     "sourceId": 10620193,
     "sourceType": "datasetVersion"
    }
   ],
   "dockerImageVersionId": 31011,
   "isGpuEnabled": true,
   "isInternetEnabled": true,
   "language": "python",
   "sourceType": "notebook"
  },
  "kernelspec": {
   "display_name": "Python 3",
   "language": "python",
   "name": "python3"
  },
  "language_info": {
   "codemirror_mode": {
    "name": "ipython",
    "version": 3
   },
   "file_extension": ".py",
   "mimetype": "text/x-python",
   "name": "python",
   "nbconvert_exporter": "python",
   "pygments_lexer": "ipython3",
   "version": "3.12.0"
  }
 },
 "nbformat": 4,
 "nbformat_minor": 4
}
