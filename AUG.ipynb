{
 "cells": [
  {
   "cell_type": "code",
   "execution_count": null,
   "metadata": {
    "_cell_guid": "b1076dfc-b9ad-4769-8c92-a6c4dae69d19",
    "_uuid": "8f2839f25d086af736a60e9eeb907d3b93b6e0e5",
    "execution": {
     "iopub.execute_input": "2025-05-06T18:03:42.559851Z",
     "iopub.status.busy": "2025-05-06T18:03:42.559305Z",
     "iopub.status.idle": "2025-05-06T18:03:42.578421Z",
     "shell.execute_reply": "2025-05-06T18:03:42.577807Z",
     "shell.execute_reply.started": "2025-05-06T18:03:42.559829Z"
    },
    "trusted": true
   },
   "outputs": [
    {
     "name": "stdout",
     "output_type": "stream",
     "text": [
      "/kaggle/input/persuade-corpus-and-ellipse-corpus-combined/all_data.csv\n",
      "/kaggle/input/persuade-corpus-and-ellipse-corpus-combined/holistic_scores.csv\n",
      "/kaggle/input/persuade-corpus-and-ellipse-corpus-combined/scores_ell.csv\n",
      "/kaggle/input/persuade-corpus-and-ellipse-corpus-combined/scores_arguments.csv\n",
      "/kaggle/input/persuade-corpus-and-ellipse-corpus-combined/ell.csv\n",
      "/kaggle/input/persuade-2-0/persuade_corpus_1.0.csv\n",
      "/kaggle/input/persuade-2-0/persuade_2.0_human_scores_demo_id_github.csv\n",
      "/kaggle/input/persuade-2-0/AES2-persuade.csv\n",
      "/kaggle/input/asap-2-0/ASAP2_train_sourcetexts.csv\n"
     ]
    }
   ],
   "source": [
    "\n",
    "import pandas as pd\n",
    "\n",
    "\n",
    "import re\n",
    "import pandas as pd\n",
    "\n",
    "from sklearn.preprocessing import MinMaxScaler\n",
    "\n",
    "\n",
    "\n",
    "\n",
    "for dirname, _, filenames in os.walk('/kaggle/input'):\n",
    "    for filename in filenames:\n",
    "        print(os.path.join(dirname, filename))"
   ]
  },
  {
   "cell_type": "code",
   "execution_count": null,
   "metadata": {
    "execution": {
     "iopub.execute_input": "2025-05-06T18:03:46.145740Z",
     "iopub.status.busy": "2025-05-06T18:03:46.145453Z",
     "iopub.status.idle": "2025-05-06T18:03:46.172305Z",
     "shell.execute_reply": "2025-05-06T18:03:46.171529Z",
     "shell.execute_reply.started": "2025-05-06T18:03:46.145718Z"
    },
    "trusted": true
   },
   "outputs": [],
   "source": [
    "\n",
    "\n",
    "\n",
    "def clean_text(text):\n",
    "    text = text.lower()\n",
    "    text = re.sub(r'<[^>]+>', ' ', text)              \n",
    "    text = re.sub(r'https?://\\S+|www\\.\\S+', '', text) \n",
    "    text = re.sub(r\"[^a-z0-9.,!?'\\s]\", ' ', text)      \n",
    "    text = re.sub(r'\\s+', ' ', text).strip()           \n",
    "    return text\n",
    "\n",
    "\n",
    "def load_dataset(scale_scores=True, min_len=30):\n",
    "\n",
    "    df1 = pd.read_csv(\"/kaggle/input/asap-2-0/ASAP2_train_sourcetexts.csv\") \n",
    "    df2 = pd.read_csv(\"/kaggle/input/persuade-2-0/persuade_2.0_human_scores_demo_id_github.csv\")\n",
    "    df3 = pd.read_csv(\"/kaggle/input/persuade-2-0/AES2-persuade.csv\")\n",
    "    df4 = pd.read_csv(\"/kaggle/input/persuade-corpus-and-ellipse-corpus-combined/all_data.csv\")\n",
    "    df5 = pd.read_csv(\"/kaggle/input/persuade-corpus-and-ellipse-corpus-combined/holistic_scores.csv\")\n",
    "    df6 = pd.read_csv(\"/kaggle/input/persuade-corpus-and-ellipse-corpus-combined/scores_ell.csv\")\n",
    "    df7 = pd.read_csv(\"/kaggle/input/persuade-corpus-and-ellipse-corpus-combined/scores_arguments.csv\")\n",
    "\n",
    "\n",
    "    for df in [df2, df4, df5, df6, df7]:\n",
    "        df.rename(columns={'holistic_essay_score': 'score'}, inplace=True)\n",
    "\n",
    "    df = pd.concat([\n",
    "        df1[['full_text', 'score']],\n",
    "        df2[['full_text', 'score']],\n",
    "        df3[['full_text', 'score']],\n",
    "        df5[['full_text', 'score']],\n",
    "        df6[['full_text', 'score']],\n",
    "        df7[['full_text', 'score']]\n",
    "    ], ignore_index=True)\n",
    "\n",
    "    if scale_scores:\n",
    "        scaler_main = MinMaxScaler()\n",
    "        df['score'] = scaler_main.fit_transform(df[['score']])\n",
    "\n",
    "        scaler_df4 = MinMaxScaler()\n",
    "        df4['score'] = scaler_df4.fit_transform(df4[['score']])  \n",
    "\n",
    "    df = pd.concat([\n",
    "        df[['full_text', 'score']],\n",
    "        df4[['full_text', 'score']]\n",
    "    ], ignore_index=True)\n",
    "\n",
    "\n",
    "    df = df.dropna(subset=['full_text', 'score'])\n",
    "    df = df.drop_duplicates(subset='full_text').reset_index(drop=True)\n",
    "\n",
    "    df = df.sample(frac=1, random_state=42).reset_index(drop=True)\n",
    "\n",
    "    df = df[df['full_text'].str.strip() != \"\"]\n",
    "    df['essay'] = df['full_text'].apply(clean_text)\n",
    "    df = df[df['essay'].str.split().apply(len) >= min_len]\n",
    "    df = df[['essay', 'score']]\n",
    "\n",
    "    return df\n",
    "\n"
   ]
  },
  {
   "cell_type": "code",
   "execution_count": 3,
   "metadata": {
    "execution": {
     "iopub.execute_input": "2025-05-06T13:20:32.453666Z",
     "iopub.status.busy": "2025-05-06T13:20:32.453391Z",
     "iopub.status.idle": "2025-05-06T13:20:47.986061Z",
     "shell.execute_reply": "2025-05-06T13:20:47.985508Z",
     "shell.execute_reply.started": "2025-05-06T13:20:32.453644Z"
    },
    "trusted": true
   },
   "outputs": [],
   "source": [
    "df = load_dataset()"
   ]
  },
  {
   "cell_type": "code",
   "execution_count": 4,
   "metadata": {
    "execution": {
     "iopub.execute_input": "2025-05-06T13:21:33.833643Z",
     "iopub.status.busy": "2025-05-06T13:21:33.833013Z",
     "iopub.status.idle": "2025-05-06T13:21:34.181037Z",
     "shell.execute_reply": "2025-05-06T13:21:34.180472Z",
     "shell.execute_reply.started": "2025-05-06T13:21:33.833617Z"
    },
    "trusted": true
   },
   "outputs": [
    {
     "data": {
      "image/png": "[encoded data removed]",
      "text/plain": [
       "<Figure size 640x480 with 1 Axes>"
      ]
     },
     "metadata": {},
     "output_type": "display_data"
    }
   ],
   "source": [
    "import matplotlib.pyplot as plt\n",
    "plt.hist(df['score'], bins=50)\n",
    "plt.title(\"Score Distribution\")\n",
    "plt.show()\n"
   ]
  },
  {
   "cell_type": "code",
   "execution_count": 5,
   "metadata": {
    "execution": {
     "iopub.execute_input": "2025-05-06T13:21:36.492469Z",
     "iopub.status.busy": "2025-05-06T13:21:36.492195Z",
     "iopub.status.idle": "2025-05-06T13:21:36.503656Z",
     "shell.execute_reply": "2025-05-06T13:21:36.503061Z",
     "shell.execute_reply.started": "2025-05-06T13:21:36.492449Z"
    },
    "trusted": true
   },
   "outputs": [],
   "source": [
    "df['score'] = df['score'].apply(lambda x: 0.20 if x == 0.25 else x)"
   ]
  },
  {
   "cell_type": "code",
   "execution_count": null,
   "metadata": {
    "execution": {
     "iopub.execute_input": "2025-05-06T13:28:01.213710Z",
     "iopub.status.busy": "2025-05-06T13:28:01.213243Z"
    },
    "trusted": true
   },
   "outputs": [
    {
     "name": "stdout",
     "output_type": "stream",
     "text": [
      "Augmenting underrepresented essays...\n"
     ]
    },
    {
     "name": "stderr",
     "output_type": "stream",
     "text": [
      " 78%|███████▊  | 5108/6581 [2:57:10<50:39,  2.06s/it]  "
     ]
    }
   ],
   "source": [
    "import pandas as pd\n",
    "from transformers import AutoTokenizer, AutoModelForSeq2SeqLM\n",
    "import torch\n",
    "from tqdm import tqdm\n",
    "\n",
    "\n",
    "\n",
    "rare_df = df[(df['score'] < 0.1) | (df['score'] > 0.7)]\n",
    "\n",
    "tokenizer = AutoTokenizer.from_pretrained(\"Vamsi/T5_Paraphrase_Paws\")\n",
    "model = AutoModelForSeq2SeqLM.from_pretrained(\"Vamsi/T5_Paraphrase_Paws\")\n",
    "model = model.to(\"cuda\" if torch.cuda.is_available() else \"cpu\")\n",
    "\n",
    "\n",
    "def paraphrase(text, num_return_sequences=5):\n",
    "    input_text = f\"paraphrase: {text} </s>\"\n",
    "    inputs = tokenizer.encode(input_text, return_tensors=\"pt\", truncation=True, max_length=512)\n",
    "    inputs = inputs.to(model.device)\n",
    "    outputs = model.generate(\n",
    "        inputs,\n",
    "        max_length=512,\n",
    "        num_beams=5,\n",
    "        num_return_sequences=num_return_sequences,\n",
    "        no_repeat_ngram_size=2,\n",
    "        early_stopping=True\n",
    "    )\n",
    "    return [tokenizer.decode(o, skip_special_tokens=True) for o in outputs]\n",
    "\n",
    "augmented_texts = []\n",
    "augmented_scores = []\n",
    "\n",
    "\n",
    "for _, row in tqdm(rare_df.iterrows(), total=len(rare_df)):\n",
    "    try:\n",
    "        new_versions = paraphrase(row['essay'], num_return_sequences=2)\n",
    "        augmented_texts.extend(new_versions)\n",
    "        augmented_scores.extend([row['score']] * len(new_versions))\n",
    "    except Exception as e:\n",
    "        continue\n",
    "\n",
    "aug_df = pd.DataFrame({\n",
    "    'essay': augmented_texts,\n",
    "    'score': augmented_scores\n",
    "})\n",
    "\n",
    "\n",
    "balanced_df = pd.concat([df, aug_df]).sample(frac=1).reset_index(drop=True)\n",
    "\n",
    "\n",
    "balanced_df['score'].hist(bins=20)\n"
   ]
  },
  {
   "cell_type": "code",
   "execution_count": 23,
   "metadata": {
    "execution": {
     "iopub.execute_input": "2025-05-06T22:52:33.744721Z",
     "iopub.status.busy": "2025-05-06T22:52:33.744137Z",
     "iopub.status.idle": "2025-05-06T22:52:33.904625Z",
     "shell.execute_reply": "2025-05-06T22:52:33.904022Z",
     "shell.execute_reply.started": "2025-05-06T22:52:33.744698Z"
    },
    "trusted": true
   },
   "outputs": [
    {
     "data": {
      "image/png": "[encoded data removed]",
      "text/plain": [
       "<Figure size 640x480 with 1 Axes>"
      ]
     },
     "metadata": {},
     "output_type": "display_data"
    }
   ],
   "source": [
    "import matplotlib.pyplot as plt\n",
    "plt.hist(df['score'], bins=20)\n",
    "plt.title(\"Score Distribution\")\n",
    "plt.show()"
   ]
  },
  {
   "cell_type": "code",
   "execution_count": 24,
   "metadata": {
    "execution": {
     "iopub.execute_input": "2025-05-06T22:52:40.291017Z",
     "iopub.status.busy": "2025-05-06T22:52:40.290743Z",
     "iopub.status.idle": "2025-05-06T22:52:40.298065Z",
     "shell.execute_reply": "2025-05-06T22:52:40.297515Z",
     "shell.execute_reply.started": "2025-05-06T22:52:40.290995Z"
    },
    "trusted": true
   },
   "outputs": [
    {
     "data": {
      "text/plain": [
       "score\n",
       "0.4    12781\n",
       "0.0    12016\n",
       "0.8    11434\n",
       "0.6     9656\n",
       "0.2     8833\n",
       "1.0     6216\n",
       "Name: count, dtype: int64"
      ]
     },
     "execution_count": 24,
     "metadata": {},
     "output_type": "execute_result"
    }
   ],
   "source": [
    "df[\"score\"].value_counts()"
   ]
  }
 ],
 "metadata": {
  "kaggle": {
   "accelerator": "gpu",
   "dataSources": [
    {
     "datasetId": 5044889,
     "sourceId": 8533513,
     "sourceType": "datasetVersion"
    },
    {
     "datasetId": 5450678,
     "sourceId": 9232133,
     "sourceType": "datasetVersion"
    },
    {
     "datasetId": 5585388,
     "sourceId": 10620193,
     "sourceType": "datasetVersion"
    }
   ],
   "dockerImageVersionId": 31011,
   "isGpuEnabled": true,
   "isInternetEnabled": true,
   "language": "python",
   "sourceType": "notebook"
  },
  "kernelspec": {
   "display_name": "Python 3",
   "language": "python",
   "name": "python3"
  },
  "language_info": {
   "codemirror_mode": {
    "name": "ipython",
    "version": 3
   },
   "file_extension": ".py",
   "mimetype": "text/x-python",
   "name": "python",
   "nbconvert_exporter": "python",
   "pygments_lexer": "ipython3",
   "version": "3.11.11"
  }
 },
 "nbformat": 4,
 "nbformat_minor": 4
}
