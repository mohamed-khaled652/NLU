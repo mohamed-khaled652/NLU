{
 "cells": [
  {
   "cell_type": "code",
   "execution_count": 1,
   "metadata": {
    "execution": {
     "iopub.execute_input": "2025-05-12T01:00:32.427518Z",
     "iopub.status.busy": "2025-05-12T01:00:32.427051Z",
     "iopub.status.idle": "2025-05-12T01:00:37.042298Z",
     "shell.execute_reply": "2025-05-12T01:00:37.041435Z",
     "shell.execute_reply.started": "2025-05-12T01:00:32.427496Z"
    },
    "trusted": true
   },
   "outputs": [
    {
     "name": "stdout",
     "output_type": "stream",
     "text": [
      "Collecting evaluate\n",
      "  Downloading evaluate-0.4.3-py3-none-any.whl.metadata (9.2 kB)\n",
      "Requirement already satisfied: datasets>=2.0.0 in /usr/local/lib/python3.11/dist-packages (from evaluate) (3.5.0)\n",
      "Requirement already satisfied: numpy>=1.17 in /usr/local/lib/python3.11/dist-packages (from evaluate) (1.26.4)\n",
      "Requirement already satisfied: dill in /usr/local/lib/python3.11/dist-packages (from evaluate) (0.3.8)\n",
      "Requirement already satisfied: pandas in /usr/local/lib/python3.11/dist-packages (from evaluate) (2.2.3)\n",
      "Requirement already satisfied: requests>=2.19.0 in /usr/local/lib/python3.11/dist-packages (from evaluate) (2.32.3)\n",
      "Requirement already satisfied: tqdm>=4.62.1 in /usr/local/lib/python3.11/dist-packages (from evaluate) (4.67.1)\n",
      "Requirement already satisfied: xxhash in /usr/local/lib/python3.11/dist-packages (from evaluate) (3.5.0)\n",
      "Requirement already satisfied: multiprocess in /usr/local/lib/python3.11/dist-packages (from evaluate) (0.70.16)\n",
      "Requirement already satisfied: fsspec>=2021.05.0 in /usr/local/lib/python3.11/dist-packages (from fsspec[http]>=2021.05.0->evaluate) (2025.3.2)\n",
      "Requirement already satisfied: huggingface-hub>=0.7.0 in /usr/local/lib/python3.11/dist-packages (from evaluate) (0.30.2)\n",
      "Requirement already satisfied: packaging in /usr/local/lib/python3.11/dist-packages (from evaluate) (24.2)\n",
      "Requirement already satisfied: filelock in /usr/local/lib/python3.11/dist-packages (from datasets>=2.0.0->evaluate) (3.18.0)\n",
      "Requirement already satisfied: pyarrow>=15.0.0 in /usr/local/lib/python3.11/dist-packages (from datasets>=2.0.0->evaluate) (19.0.1)\n",
      "Collecting fsspec>=2021.05.0 (from fsspec[http]>=2021.05.0->evaluate)\n",
      "  Downloading fsspec-2024.12.0-py3-none-any.whl.metadata (11 kB)\n",
      "Requirement already satisfied: aiohttp in /usr/local/lib/python3.11/dist-packages (from datasets>=2.0.0->evaluate) (3.11.16)\n",
      "Requirement already satisfied: pyyaml>=5.1 in /usr/local/lib/python3.11/dist-packages (from datasets>=2.0.0->evaluate) (6.0.2)\n",
      "Requirement already satisfied: typing-extensions>=3.7.4.3 in /usr/local/lib/python3.11/dist-packages (from huggingface-hub>=0.7.0->evaluate) (4.13.1)\n",
      "Requirement already satisfied: mkl_fft in /usr/local/lib/python3.11/dist-packages (from numpy>=1.17->evaluate) (1.3.8)\n",
      "Requirement already satisfied: mkl_random in /usr/local/lib/python3.11/dist-packages (from numpy>=1.17->evaluate) (1.2.4)\n",
      "Requirement already satisfied: mkl_umath in /usr/local/lib/python3.11/dist-packages (from numpy>=1.17->evaluate) (0.1.1)\n",
      "Requirement already satisfied: mkl in /usr/local/lib/python3.11/dist-packages (from numpy>=1.17->evaluate) (2025.1.0)\n",
      "Requirement already satisfied: tbb4py in /usr/local/lib/python3.11/dist-packages (from numpy>=1.17->evaluate) (2022.1.0)\n",
      "Requirement already satisfied: mkl-service in /usr/local/lib/python3.11/dist-packages (from numpy>=1.17->evaluate) (2.4.1)\n",
      "Requirement already satisfied: charset-normalizer<4,>=2 in /usr/local/lib/python3.11/dist-packages (from requests>=2.19.0->evaluate) (3.4.1)\n",
      "Requirement already satisfied: idna<4,>=2.5 in /usr/local/lib/python3.11/dist-packages (from requests>=2.19.0->evaluate) (3.10)\n",
      "Requirement already satisfied: urllib3<3,>=1.21.1 in /usr/local/lib/python3.11/dist-packages (from requests>=2.19.0->evaluate) (2.3.0)\n",
      "Requirement already satisfied: certifi>=2017.4.17 in /usr/local/lib/python3.11/dist-packages (from requests>=2.19.0->evaluate) (2025.1.31)\n",
      "Requirement already satisfied: python-dateutil>=2.8.2 in /usr/local/lib/python3.11/dist-packages (from pandas->evaluate) (2.9.0.post0)\n",
      "Requirement already satisfied: pytz>=2020.1 in /usr/local/lib/python3.11/dist-packages (from pandas->evaluate) (2025.2)\n",
      "Requirement already satisfied: tzdata>=2022.7 in /usr/local/lib/python3.11/dist-packages (from pandas->evaluate) (2025.2)\n",
      "Requirement already satisfied: aiohappyeyeballs>=2.3.0 in /usr/local/lib/python3.11/dist-packages (from aiohttp->datasets>=2.0.0->evaluate) (2.6.1)\n",
      "Requirement already satisfied: aiosignal>=1.1.2 in /usr/local/lib/python3.11/dist-packages (from aiohttp->datasets>=2.0.0->evaluate) (1.3.2)\n",
      "Requirement already satisfied: attrs>=17.3.0 in /usr/local/lib/python3.11/dist-packages (from aiohttp->datasets>=2.0.0->evaluate) (25.3.0)\n",
      "Requirement already satisfied: frozenlist>=1.1.1 in /usr/local/lib/python3.11/dist-packages (from aiohttp->datasets>=2.0.0->evaluate) (1.5.0)\n",
      "Requirement already satisfied: multidict<7.0,>=4.5 in /usr/local/lib/python3.11/dist-packages (from aiohttp->datasets>=2.0.0->evaluate) (6.2.0)\n",
      "Requirement already satisfied: propcache>=0.2.0 in /usr/local/lib/python3.11/dist-packages (from aiohttp->datasets>=2.0.0->evaluate) (0.3.1)\n",
      "Requirement already satisfied: yarl<2.0,>=1.17.0 in /usr/local/lib/python3.11/dist-packages (from aiohttp->datasets>=2.0.0->evaluate) (1.19.0)\n",
      "Requirement already satisfied: six>=1.5 in /usr/local/lib/python3.11/dist-packages (from python-dateutil>=2.8.2->pandas->evaluate) (1.17.0)\n",
      "Requirement already satisfied: intel-openmp<2026,>=2024 in /usr/local/lib/python3.11/dist-packages (from mkl->numpy>=1.17->evaluate) (2024.2.0)\n",
      "Requirement already satisfied: tbb==2022.* in /usr/local/lib/python3.11/dist-packages (from mkl->numpy>=1.17->evaluate) (2022.1.0)\n",
      "Requirement already satisfied: tcmlib==1.* in /usr/local/lib/python3.11/dist-packages (from tbb==2022.*->mkl->numpy>=1.17->evaluate) (1.2.0)\n",
      "Requirement already satisfied: intel-cmplr-lib-rt in /usr/local/lib/python3.11/dist-packages (from mkl_umath->numpy>=1.17->evaluate) (2024.2.0)\n",
      "Requirement already satisfied: intel-cmplr-lib-ur==2024.2.0 in /usr/local/lib/python3.11/dist-packages (from intel-openmp<2026,>=2024->mkl->numpy>=1.17->evaluate) (2024.2.0)\n",
      "Downloading evaluate-0.4.3-py3-none-any.whl (84 kB)\n",
      "\u001b[2K   \u001b[90m━━━━━━━━━━━━━━━━━━━━━━━━━━━━━━━━━━━━━━━━\u001b[0m \u001b[32m84.0/84.0 kB\u001b[0m \u001b[31m3.5 MB/s\u001b[0m eta \u001b[36m0:00:00\u001b[0m\n",
      "\u001b[?25hDownloading fsspec-2024.12.0-py3-none-any.whl (183 kB)\n",
      "\u001b[2K   \u001b[90m━━━━━━━━━━━━━━━━━━━━━━━━━━━━━━━━━━━━━━━━\u001b[0m \u001b[32m183.9/183.9 kB\u001b[0m \u001b[31m8.7 MB/s\u001b[0m eta \u001b[36m0:00:00\u001b[0m\n",
      "\u001b[?25hInstalling collected packages: fsspec, evaluate\n",
      "  Attempting uninstall: fsspec\n",
      "    Found existing installation: fsspec 2025.3.2\n",
      "    Uninstalling fsspec-2025.3.2:\n",
      "      Successfully uninstalled fsspec-2025.3.2\n",
      "\u001b[31mERROR: pip's dependency resolver does not currently take into account all the packages that are installed. This behaviour is the source of the following dependency conflicts.\n",
      "gcsfs 2024.10.0 requires fsspec==2024.10.0, but you have fsspec 2024.12.0 which is incompatible.\n",
      "torch 2.5.1+cu124 requires nvidia-cublas-cu12==12.4.5.8; platform_system == \"Linux\" and platform_machine == \"x86_64\", but you have nvidia-cublas-cu12 12.8.4.1 which is incompatible.\n",
      "torch 2.5.1+cu124 requires nvidia-cudnn-cu12==9.1.0.70; platform_system == \"Linux\" and platform_machine == \"x86_64\", but you have nvidia-cudnn-cu12 9.3.0.75 which is incompatible.\n",
      "torch 2.5.1+cu124 requires nvidia-cufft-cu12==11.2.1.3; platform_system == \"Linux\" and platform_machine == \"x86_64\", but you have nvidia-cufft-cu12 11.3.3.83 which is incompatible.\n",
      "torch 2.5.1+cu124 requires nvidia-curand-cu12==10.3.5.147; platform_system == \"Linux\" and platform_machine == \"x86_64\", but you have nvidia-curand-cu12 10.3.9.90 which is incompatible.\n",
      "torch 2.5.1+cu124 requires nvidia-cusolver-cu12==11.6.1.9; platform_system == \"Linux\" and platform_machine == \"x86_64\", but you have nvidia-cusolver-cu12 11.7.3.90 which is incompatible.\n",
      "torch 2.5.1+cu124 requires nvidia-cusparse-cu12==12.3.1.170; platform_system == \"Linux\" and platform_machine == \"x86_64\", but you have nvidia-cusparse-cu12 12.5.8.93 which is incompatible.\n",
      "torch 2.5.1+cu124 requires nvidia-nvjitlink-cu12==12.4.127; platform_system == \"Linux\" and platform_machine == \"x86_64\", but you have nvidia-nvjitlink-cu12 12.8.93 which is incompatible.\n",
      "bigframes 1.36.0 requires rich<14,>=12.4.4, but you have rich 14.0.0 which is incompatible.\u001b[0m\u001b[31m\n",
      "\u001b[0mSuccessfully installed evaluate-0.4.3 fsspec-2024.12.0\n",
      "Note: you may need to restart the kernel to use updated packages.\n"
     ]
    }
   ],
   "source": [
    "pip install evaluate"
   ]
  },
  {
   "cell_type": "code",
   "execution_count": 2,
   "metadata": {
    "execution": {
     "iopub.execute_input": "2025-05-12T01:00:37.043822Z",
     "iopub.status.busy": "2025-05-12T01:00:37.043614Z",
     "iopub.status.idle": "2025-05-12T01:00:42.020959Z",
     "shell.execute_reply": "2025-05-12T01:00:42.020008Z",
     "shell.execute_reply.started": "2025-05-12T01:00:37.043803Z"
    },
    "trusted": true
   },
   "outputs": [
    {
     "name": "stdout",
     "output_type": "stream",
     "text": [
      "Collecting rouge_score\n",
      "  Downloading rouge_score-0.1.2.tar.gz (17 kB)\n",
      "  Preparing metadata (setup.py) ... \u001b[?25l\u001b[?25hdone\n",
      "Requirement already satisfied: absl-py in /usr/local/lib/python3.11/dist-packages (from rouge_score) (1.4.0)\n",
      "Requirement already satisfied: nltk in /usr/local/lib/python3.11/dist-packages (from rouge_score) (3.9.1)\n",
      "Requirement already satisfied: numpy in /usr/local/lib/python3.11/dist-packages (from rouge_score) (1.26.4)\n",
      "Requirement already satisfied: six>=1.14.0 in /usr/local/lib/python3.11/dist-packages (from rouge_score) (1.17.0)\n",
      "Requirement already satisfied: click in /usr/local/lib/python3.11/dist-packages (from nltk->rouge_score) (8.1.8)\n",
      "Requirement already satisfied: joblib in /usr/local/lib/python3.11/dist-packages (from nltk->rouge_score) (1.4.2)\n",
      "Requirement already satisfied: regex>=2021.8.3 in /usr/local/lib/python3.11/dist-packages (from nltk->rouge_score) (2024.11.6)\n",
      "Requirement already satisfied: tqdm in /usr/local/lib/python3.11/dist-packages (from nltk->rouge_score) (4.67.1)\n",
      "Requirement already satisfied: mkl_fft in /usr/local/lib/python3.11/dist-packages (from numpy->rouge_score) (1.3.8)\n",
      "Requirement already satisfied: mkl_random in /usr/local/lib/python3.11/dist-packages (from numpy->rouge_score) (1.2.4)\n",
      "Requirement already satisfied: mkl_umath in /usr/local/lib/python3.11/dist-packages (from numpy->rouge_score) (0.1.1)\n",
      "Requirement already satisfied: mkl in /usr/local/lib/python3.11/dist-packages (from numpy->rouge_score) (2025.1.0)\n",
      "Requirement already satisfied: tbb4py in /usr/local/lib/python3.11/dist-packages (from numpy->rouge_score) (2022.1.0)\n",
      "Requirement already satisfied: mkl-service in /usr/local/lib/python3.11/dist-packages (from numpy->rouge_score) (2.4.1)\n",
      "Requirement already satisfied: intel-openmp<2026,>=2024 in /usr/local/lib/python3.11/dist-packages (from mkl->numpy->rouge_score) (2024.2.0)\n",
      "Requirement already satisfied: tbb==2022.* in /usr/local/lib/python3.11/dist-packages (from mkl->numpy->rouge_score) (2022.1.0)\n",
      "Requirement already satisfied: tcmlib==1.* in /usr/local/lib/python3.11/dist-packages (from tbb==2022.*->mkl->numpy->rouge_score) (1.2.0)\n",
      "Requirement already satisfied: intel-cmplr-lib-rt in /usr/local/lib/python3.11/dist-packages (from mkl_umath->numpy->rouge_score) (2024.2.0)\n",
      "Requirement already satisfied: intel-cmplr-lib-ur==2024.2.0 in /usr/local/lib/python3.11/dist-packages (from intel-openmp<2026,>=2024->mkl->numpy->rouge_score) (2024.2.0)\n",
      "Building wheels for collected packages: rouge_score\n",
      "  Building wheel for rouge_score (setup.py) ... \u001b[?25l\u001b[?25hdone\n",
      "  Created wheel for rouge_score: filename=rouge_score-0.1.2-py3-none-any.whl size=24935 sha256=6b088280c4d29fa0ef856b689da9fc5694c05a5dfbc4f5ee8183da8fa48265c6\n",
      "  Stored in directory: /root/.cache/pip/wheels/1e/19/43/8a442dc83660ca25e163e1bd1f89919284ab0d0c1475475148\n",
      "Successfully built rouge_score\n",
      "Installing collected packages: rouge_score\n",
      "Successfully installed rouge_score-0.1.2\n",
      "Note: you may need to restart the kernel to use updated packages.\n"
     ]
    }
   ],
   "source": [
    "pip install rouge_score"
   ]
  },
  {
   "cell_type": "code",
   "execution_count": 3,
   "metadata": {
    "_cell_guid": "b1076dfc-b9ad-4769-8c92-a6c4dae69d19",
    "_uuid": "8f2839f25d086af736a60e9eeb907d3b93b6e0e5",
    "execution": {
     "iopub.execute_input": "2025-05-12T01:00:42.023004Z",
     "iopub.status.busy": "2025-05-12T01:00:42.022647Z",
     "iopub.status.idle": "2025-05-12T01:00:44.743604Z",
     "shell.execute_reply": "2025-05-12T01:00:44.742779Z",
     "shell.execute_reply.started": "2025-05-12T01:00:42.022977Z"
    },
    "trusted": true
   },
   "outputs": [
    {
     "data": {
      "application/vnd.jupyter.widget-view+json": {
       "model_id": "f7164ebbe79b400ca050026430ffb799",
       "version_major": 2,
       "version_minor": 0
      },
      "text/plain": [
       "Downloading builder script:   0%|          | 0.00/6.27k [00:00<?, ?B/s]"
      ]
     },
     "metadata": {},
     "output_type": "display_data"
    },
    {
     "name": "stdout",
     "output_type": "stream",
     "text": [
      "/kaggle/input/essay-scoring/balanced_essay_data_2.csv\n"
     ]
    }
   ],
   "source": [
    "import torch\n",
    "import torch.nn as nn\n",
    "import torch.optim as optim\n",
    "from torch.utils.data import DataLoader, Dataset\n",
    "from transformers import T5ForConditionalGeneration, T5Tokenizer, AutoTokenizer\n",
    "from sklearn.model_selection import train_test_split\n",
    "from sklearn.metrics import mean_squared_error, mean_absolute_error, r2_score\n",
    "import numpy as np\n",
    "import pandas as pd\n",
    "import re\n",
    "from transformers import T5ForConditionalGeneration, T5Tokenizer, T5Config\n",
    "from transformers import PreTrainedModel\n",
    "import torch\n",
    "from rouge_score import rouge_scorer\n",
    "from torch import nn\n",
    "import json\n",
    "from tqdm import tqdm\n",
    "from transformers import T5ForConditionalGeneration, PreTrainedModel\n",
    "from torch import nn\n",
    "from sklearn.utils import resample\n",
    "from evaluate import load\n",
    "import os\n",
    "# For PEFT and LoRA\n",
    "from peft import LoraConfig, TaskType, get_peft_model\n",
    "rouge = load(\"rouge\")\n",
    "for dirname, _, filenames in os.walk('/kaggle/input'):\n",
    "    for filename in filenames:\n",
    "        print(os.path.join(dirname, filename))"
   ]
  },
  {
   "cell_type": "code",
   "execution_count": 4,
   "metadata": {
    "execution": {
     "iopub.execute_input": "2025-05-12T01:00:44.745052Z",
     "iopub.status.busy": "2025-05-12T01:00:44.744523Z",
     "iopub.status.idle": "2025-05-12T01:00:44.769096Z",
     "shell.execute_reply": "2025-05-12T01:00:44.768189Z",
     "shell.execute_reply.started": "2025-05-12T01:00:44.745030Z"
    },
    "trusted": true
   },
   "outputs": [],
   "source": [
    "class FlanT5Generator(PreTrainedModel):\n",
    "    def __init__(self, model_name=\"google/flan-t5-base\"):\n",
    "        config = T5Config.from_pretrained(model_name)\n",
    "        super().__init__(config)\n",
    "        self.model = T5ForConditionalGeneration.from_pretrained(model_name)\n",
    "        self.tokenizer = T5Tokenizer.from_pretrained(model_name)\n",
    "\n",
    "    def forward(self, input_ids=None, attention_mask=None, inputs_embeds=None, labels=None, **kwargs):\n",
    "        return self.model(\n",
    "            input_ids=input_ids,\n",
    "            attention_mask=attention_mask,\n",
    "            inputs_embeds=inputs_embeds,\n",
    "            labels=labels,\n",
    "            **kwargs\n",
    "        )\n",
    "\n",
    "    def generate(self, *args, **kwargs):\n",
    "        return self.model.generate(*args, **kwargs)\n",
    "\n",
    "    def prepare_inputs_for_generation(self, *args, **kwargs):\n",
    "        return self.model.prepare_inputs_for_generation(*args, **kwargs)\n",
    "\n",
    "class EssayDataset(Dataset):\n",
    "    def __init__(self, texts, feedbacks, tokenizer, max_length=512):\n",
    "\n",
    "        self.texts = texts\n",
    "        self.feedbacks = feedbacks\n",
    "        self.tokenizer = tokenizer\n",
    "        self.max_length = max_length\n",
    "\n",
    "    def __len__(self):\n",
    "        return len(self.texts)\n",
    "\n",
    "    def __getitem__(self, idx):\n",
    "        text = self.texts[idx]\n",
    "        feedback_dict = self.feedbacks[idx]  \n",
    "        \n",
    "       \n",
    "        feedback = (\n",
    "            f\"Overall Evaluation: {feedback_dict['overall_evaluation']}\\n\"\n",
    "            f\"Strengths: {feedback_dict['strengths']}\\n\"\n",
    "            f\"Areas for Improvement: {feedback_dict['areas_for_improvement']}\"\n",
    "        )\n",
    "        \n",
    "        \n",
    "        inputs = self.tokenizer(\n",
    "            text,\n",
    "            return_tensors=\"pt\",\n",
    "            max_length=self.max_length,\n",
    "            padding=\"max_length\",\n",
    "            truncation=True\n",
    "        )\n",
    "\n",
    "        targets = self.tokenizer(\n",
    "            feedback,\n",
    "            return_tensors=\"pt\",\n",
    "            max_length=self.max_length,\n",
    "            padding=\"max_length\",\n",
    "            truncation=True\n",
    "        )\n",
    "\n",
    "        return {\n",
    "            \"input_ids\": inputs[\"input_ids\"].squeeze(0),\n",
    "            \"attention_mask\": inputs[\"attention_mask\"].squeeze(0),\n",
    "            \"labels\": targets[\"input_ids\"].squeeze(0)\n",
    "        }\n",
    "\n",
    "\n",
    "\n",
    "\n",
    "def train_epoch(model, dataloader, optimizer, device, tokenizer):\n",
    "    model.train()\n",
    "    all_preds = []\n",
    "    all_targets = []\n",
    "\n",
    "    progress_bar = tqdm(dataloader, desc=\"Training\", leave=False)\n",
    "\n",
    "    for batch in progress_bar:\n",
    "        input_ids = batch[\"input_ids\"].to(device)\n",
    "        attention_mask = batch[\"attention_mask\"].to(device)\n",
    "        labels = batch[\"labels\"].to(device)\n",
    "\n",
    "        optimizer.zero_grad()\n",
    "\n",
    "       \n",
    "        outputs = model(input_ids=input_ids, attention_mask=attention_mask, labels=labels)\n",
    "        loss = outputs.loss\n",
    "        logits = outputs.logits\n",
    "\n",
    "      \n",
    "        predicted_ids = torch.argmax(logits, dim=-1)\n",
    "        predicted_texts = tokenizer.batch_decode(predicted_ids, skip_special_tokens=True)\n",
    "        target_texts = tokenizer.batch_decode(labels, skip_special_tokens=True)\n",
    "\n",
    "        \n",
    "        rouge_score = rouge.compute(predictions=predicted_texts, references=target_texts)\n",
    "\n",
    "       \n",
    "        loss.backward()\n",
    "        torch.nn.utils.clip_grad_norm_(model.parameters(), 1.0)\n",
    "        optimizer.step()\n",
    "\n",
    "        all_preds.extend(predicted_texts)\n",
    "        all_targets.extend(target_texts)\n",
    "\n",
    "        progress_bar.set_postfix(loss=loss.item())\n",
    "\n",
    "    \n",
    "    rouge_results = rouge.compute(predictions=all_preds, references=all_targets)\n",
    "\n",
    "    metrics = {\n",
    "        \"loss\": loss.item(),\n",
    "        \"rouge1\": rouge_results[\"rouge1\"],\n",
    "        \"rouge2\": rouge_results[\"rouge2\"],\n",
    "        \"rougeL\": rouge_results[\"rougeL\"]\n",
    "    }\n",
    "\n",
    "    return metrics\n",
    "\n",
    "\n",
    "def evaluate(model, dataloader, device, tokenizer):\n",
    "    model.eval()\n",
    "    predictions_list = []\n",
    "    targets_list = []\n",
    "    \n",
    "    \n",
    "    rouge = rouge_scorer.RougeScorer(['rouge1', 'rouge2', 'rougeL'], use_stemmer=True)\n",
    "    rouge_scores = []\n",
    "\n",
    "    with torch.no_grad():\n",
    "        for batch in tqdm(dataloader, desc=\"Evaluating\", leave=False):\n",
    "            input_ids = batch[\"input_ids\"].to(device)\n",
    "            attention_mask = batch[\"attention_mask\"].to(device)\n",
    "            labels = batch[\"labels\"].to(device)\n",
    "\n",
    "            outputs = model(input_ids=input_ids, \n",
    "                          attention_mask=attention_mask, \n",
    "                          labels=labels)\n",
    "            \n",
    "            predicted_ids = torch.argmax(outputs.logits, dim=-1)\n",
    "            predicted_texts = tokenizer.batch_decode(predicted_ids, skip_special_tokens=True)\n",
    "            target_texts = tokenizer.batch_decode(labels, skip_special_tokens=True)\n",
    "\n",
    "           \n",
    "            for pred, target in zip(predicted_texts, target_texts):\n",
    "                scores = rouge.score(target, pred)\n",
    "                rouge_scores.append({\n",
    "                    'rouge1': scores['rouge1'].fmeasure,\n",
    "                    'rouge2': scores['rouge2'].fmeasure,\n",
    "                    'rougeL': scores['rougeL'].fmeasure\n",
    "                })\n",
    "\n",
    "            predictions_list.extend(predicted_texts)\n",
    "            targets_list.extend(target_texts)\n",
    "\n",
    "   \n",
    "    avg_rouge = {\n",
    "        'rouge1': np.mean([s['rouge1'] for s in rouge_scores]),\n",
    "        'rouge2': np.mean([s['rouge2'] for s in rouge_scores]),\n",
    "        'rougeL': np.mean([s['rougeL'] for s in rouge_scores])\n",
    "    }\n",
    "\n",
    "    return avg_rouge, predictions_list, targets_list\n",
    "\n",
    "\n",
    "\n",
    "def clean_text(text):\n",
    "    text = text.lower()\n",
    "    text = re.sub(r'<[^>]+>', ' ', text)              \n",
    "    text = re.sub(r'https?://\\S+|www\\.\\S+', '', text) \n",
    "    text = re.sub(r\"[^a-z0-9.,!?'\\s]\", ' ', text)      \n",
    "    text = re.sub(r'\\s+', ' ', text).strip()           \n",
    "    return text\n",
    "\n",
    "\n",
    "def load_dataset(scale_scores=True, min_len=30):\n",
    "    df = pd.read_csv(\"/kaggle/input/essay-scoring/balanced_essay_data_2.csv\")\n",
    "\n",
    "    df = df.dropna(subset=['essay', 'score'])\n",
    "    df = df.drop_duplicates(subset='essay').reset_index(drop=True)\n",
    "\n",
    "    df = df.sample(frac=1, random_state=42).reset_index(drop=True)\n",
    "    df = df[df['essay'].str.strip() != \"\"]\n",
    "    df['essay'] = df['essay'].apply(clean_text)\n",
    "    df = df[df['essay'].str.split().apply(len) >= min_len]\n",
    "\n",
    "    if scale_scores:\n",
    "        df['score'] = np.floor(df['score'] * 10) / 10\n",
    "\n",
    "    target_size = len(df[df['score'] == 1.0])\n",
    "    grouped = [g for _, g in df.groupby('score')]\n",
    "\n",
    "    balanced = pd.concat([\n",
    "        resample(g,\n",
    "                 replace=(len(g) < target_size),\n",
    "                 n_samples=target_size,\n",
    "                 random_state=42)\n",
    "        for g in grouped\n",
    "    ])\n",
    "\n",
    "    balanced = generate_feedback(balanced)\n",
    "\n",
    "    balanced = balanced[[\"essay\", \"feedback\"]]\n",
    "\n",
    "    return balanced.reset_index(drop=True)\n",
    "\n",
    "def generate_feedback(df):\n",
    "    feedback_list = []\n",
    "\n",
    "    for score in df[\"score\"]:\n",
    "        if score >= 0.7:\n",
    "            overall = \"This essay is strong overall, showing excellent organization, development of ideas, and clarity in expression.\"\n",
    "            strengths = \"Ideas are well-structured, arguments are persuasive, and language use is mostly mature and accurate.\"\n",
    "            improvements = \"Polish minor grammar issues and ensure transitions are smooth to reach perfection.\"\n",
    "\n",
    "        elif score >= 0.5:\n",
    "            overall = \"This essay is fairly effective, with generally clear ideas and good effort in structure.\"\n",
    "            strengths = \"The essay presents organized thoughts and some persuasive arguments.\"\n",
    "            improvements = \"Work on refining grammar and strengthening transitions between points.\"\n",
    "\n",
    "        elif score >= 0.3:\n",
    "            overall = \"This essay has potential but needs improvement in structure, clarity, and development.\"\n",
    "            strengths = \"There are some clear ideas, and an effort to support them is noticeable.\"\n",
    "            improvements = \"Improve sentence flow, avoid repetition, and develop arguments more fully.\"\n",
    "\n",
    "        else:\n",
    "            overall = \"This essay is underdeveloped and difficult to follow, with significant issues in structure and language.\"\n",
    "            strengths = \"The attempt to engage with the topic is visible.\"\n",
    "            improvements = \"Focus on organizing your thoughts clearly, using proper grammar, and fully developing your main ideas.\"\n",
    "\n",
    "        feedback_list.append({\n",
    "            \"overall_evaluation\": overall,\n",
    "            \"strengths\": strengths,\n",
    "            \"areas_for_improvement\": improvements\n",
    "        })\n",
    "\n",
    "    df[\"feedback\"] = feedback_list\n",
    "    return df\n",
    "\n",
    "def save_structured_output(texts, predictions, targets, output_prefix=\"structured_output\"):\n",
    "\n",
    "    structured_data = []\n",
    "\n",
    "    for i in range(len(texts)):\n",
    "        item = {\n",
    "            \"essay_id\": i,\n",
    "            \"essay_text\": texts[i],\n",
    "            \"generated_feedback\": predictions[i],  \n",
    "            \"actual_feedback\": targets[i]  \n",
    "        }\n",
    "        structured_data.append(item)\n",
    "\n",
    "    \n",
    "    with open(f\"{output_prefix}.json\", \"w\", encoding=\"utf-8\") as f_json:\n",
    "        json.dump(structured_data, f_json, indent=4)\n",
    "\n",
    "    print(f\"Structured output saved to {output_prefix}.json\")\n"
   ]
  },
  {
   "cell_type": "code",
   "execution_count": 5,
   "metadata": {
    "execution": {
     "iopub.execute_input": "2025-05-12T01:00:48.114987Z",
     "iopub.status.busy": "2025-05-12T01:00:48.114385Z",
     "iopub.status.idle": "2025-05-12T01:01:00.378823Z",
     "shell.execute_reply": "2025-05-12T01:01:00.378224Z",
     "shell.execute_reply.started": "2025-05-12T01:00:48.114964Z"
    },
    "trusted": true
   },
   "outputs": [],
   "source": [
    "df = load_dataset()"
   ]
  },
  {
   "cell_type": "code",
   "execution_count": 6,
   "metadata": {
    "execution": {
     "iopub.execute_input": "2025-05-12T01:01:00.380158Z",
     "iopub.status.busy": "2025-05-12T01:01:00.379933Z",
     "iopub.status.idle": "2025-05-12T01:01:00.399899Z",
     "shell.execute_reply": "2025-05-12T01:01:00.399137Z",
     "shell.execute_reply.started": "2025-05-12T01:01:00.380141Z"
    },
    "trusted": true
   },
   "outputs": [
    {
     "data": {
      "text/html": [
       "<div>\n",
       "<style scoped>\n",
       "    .dataframe tbody tr th:only-of-type {\n",
       "        vertical-align: middle;\n",
       "    }\n",
       "\n",
       "    .dataframe tbody tr th {\n",
       "        vertical-align: top;\n",
       "    }\n",
       "\n",
       "    .dataframe thead th {\n",
       "        text-align: right;\n",
       "    }\n",
       "</style>\n",
       "<table border=\"1\" class=\"dataframe\">\n",
       "  <thead>\n",
       "    <tr style=\"text-align: right;\">\n",
       "      <th></th>\n",
       "      <th>essay</th>\n",
       "      <th>feedback</th>\n",
       "    </tr>\n",
       "  </thead>\n",
       "  <tbody>\n",
       "    <tr>\n",
       "      <th>0</th>\n",
       "      <td>the planet venus is kinda like an extra star i...</td>\n",
       "      <td>{'overall_evaluation': 'This essay is underdev...</td>\n",
       "    </tr>\n",
       "    <tr>\n",
       "      <th>1</th>\n",
       "      <td>have you ever thought that maybe a president d...</td>\n",
       "      <td>{'overall_evaluation': 'This essay is underdev...</td>\n",
       "    </tr>\n",
       "    <tr>\n",
       "      <th>2</th>\n",
       "      <td>in the passage , the author is explaining how ...</td>\n",
       "      <td>{'overall_evaluation': 'This essay is underdev...</td>\n",
       "    </tr>\n",
       "    <tr>\n",
       "      <th>3</th>\n",
       "      <td>nasa has been working with space for a very lo...</td>\n",
       "      <td>{'overall_evaluation': 'This essay is underdev...</td>\n",
       "    </tr>\n",
       "    <tr>\n",
       "      <th>4</th>\n",
       "      <td>i think we should keep the electoral college b...</td>\n",
       "      <td>{'overall_evaluation': 'This essay is underdev...</td>\n",
       "    </tr>\n",
       "    <tr>\n",
       "      <th>...</th>\n",
       "      <td>...</td>\n",
       "      <td>...</td>\n",
       "    </tr>\n",
       "    <tr>\n",
       "      <th>37291</th>\n",
       "      <td>i believe schools have made the right decision...</td>\n",
       "      <td>{'overall_evaluation': 'This essay is strong o...</td>\n",
       "    </tr>\n",
       "    <tr>\n",
       "      <th>37292</th>\n",
       "      <td>when it comes to education, there are various ...</td>\n",
       "      <td>{'overall_evaluation': 'This essay is strong o...</td>\n",
       "    </tr>\n",
       "    <tr>\n",
       "      <th>37293</th>\n",
       "      <td>as technology advances with time , modern stud...</td>\n",
       "      <td>{'overall_evaluation': 'This essay is strong o...</td>\n",
       "    </tr>\n",
       "    <tr>\n",
       "      <th>37294</th>\n",
       "      <td>for many years , summer projects have been giv...</td>\n",
       "      <td>{'overall_evaluation': 'This essay is strong o...</td>\n",
       "    </tr>\n",
       "    <tr>\n",
       "      <th>37295</th>\n",
       "      <td>the author does a wonderful job of supporting ...</td>\n",
       "      <td>{'overall_evaluation': 'This essay is strong o...</td>\n",
       "    </tr>\n",
       "  </tbody>\n",
       "</table>\n",
       "<p>37296 rows × 2 columns</p>\n",
       "</div>"
      ],
      "text/plain": [
       "                                                   essay  \\\n",
       "0      the planet venus is kinda like an extra star i...   \n",
       "1      have you ever thought that maybe a president d...   \n",
       "2      in the passage , the author is explaining how ...   \n",
       "3      nasa has been working with space for a very lo...   \n",
       "4      i think we should keep the electoral college b...   \n",
       "...                                                  ...   \n",
       "37291  i believe schools have made the right decision...   \n",
       "37292  when it comes to education, there are various ...   \n",
       "37293  as technology advances with time , modern stud...   \n",
       "37294  for many years , summer projects have been giv...   \n",
       "37295  the author does a wonderful job of supporting ...   \n",
       "\n",
       "                                                feedback  \n",
       "0      {'overall_evaluation': 'This essay is underdev...  \n",
       "1      {'overall_evaluation': 'This essay is underdev...  \n",
       "2      {'overall_evaluation': 'This essay is underdev...  \n",
       "3      {'overall_evaluation': 'This essay is underdev...  \n",
       "4      {'overall_evaluation': 'This essay is underdev...  \n",
       "...                                                  ...  \n",
       "37291  {'overall_evaluation': 'This essay is strong o...  \n",
       "37292  {'overall_evaluation': 'This essay is strong o...  \n",
       "37293  {'overall_evaluation': 'This essay is strong o...  \n",
       "37294  {'overall_evaluation': 'This essay is strong o...  \n",
       "37295  {'overall_evaluation': 'This essay is strong o...  \n",
       "\n",
       "[37296 rows x 2 columns]"
      ]
     },
     "execution_count": 6,
     "metadata": {},
     "output_type": "execute_result"
    }
   ],
   "source": [
    "df"
   ]
  },
  {
   "cell_type": "code",
   "execution_count": null,
   "metadata": {
    "execution": {
     "iopub.execute_input": "2025-05-12T01:01:00.401460Z",
     "iopub.status.busy": "2025-05-12T01:01:00.400727Z",
     "iopub.status.idle": "2025-05-12T01:01:02.369690Z",
     "shell.execute_reply": "2025-05-12T01:01:02.369115Z",
     "shell.execute_reply.started": "2025-05-12T01:01:00.401425Z"
    },
    "trusted": true
   },
   "outputs": [
    {
     "data": {
      "application/vnd.jupyter.widget-view+json": {
       "model_id": "760080b231e04735b5390513b08fc0ea",
       "version_major": 2,
       "version_minor": 0
      },
      "text/plain": [
       "tokenizer_config.json:   0%|          | 0.00/2.54k [00:00<?, ?B/s]"
      ]
     },
     "metadata": {},
     "output_type": "display_data"
    },
    {
     "name": "stderr",
     "output_type": "stream",
     "text": [
      "Xet Storage is enabled for this repo, but the 'hf_xet' package is not installed. Falling back to regular HTTP download. For better performance, install the package with: `pip install huggingface_hub[hf_xet]` or `pip install hf_xet`\n"
     ]
    },
    {
     "data": {
      "application/vnd.jupyter.widget-view+json": {
       "model_id": "1138bb16132540979f4d2169d6aa41c5",
       "version_major": 2,
       "version_minor": 0
      },
      "text/plain": [
       "spiece.model:   0%|          | 0.00/792k [00:00<?, ?B/s]"
      ]
     },
     "metadata": {},
     "output_type": "display_data"
    },
    {
     "data": {
      "application/vnd.jupyter.widget-view+json": {
       "model_id": "1c84ee5acf364ab08c4081fa738763c0",
       "version_major": 2,
       "version_minor": 0
      },
      "text/plain": [
       "tokenizer.json:   0%|          | 0.00/2.42M [00:00<?, ?B/s]"
      ]
     },
     "metadata": {},
     "output_type": "display_data"
    },
    {
     "data": {
      "application/vnd.jupyter.widget-view+json": {
       "model_id": "a20b1e4630b4400dbd38637504fd8c13",
       "version_major": 2,
       "version_minor": 0
      },
      "text/plain": [
       "special_tokens_map.json:   0%|          | 0.00/2.20k [00:00<?, ?B/s]"
      ]
     },
     "metadata": {},
     "output_type": "display_data"
    }
   ],
   "source": [
    "\n",
    "device = torch.device(\"cuda\" if torch.cuda.is_available() else \"cpu\")\n",
    "\n",
    "\n",
    "tokenizer = AutoTokenizer.from_pretrained(\"google/flan-t5-base\")\n"
   ]
  },
  {
   "cell_type": "code",
   "execution_count": 8,
   "metadata": {
    "execution": {
     "iopub.execute_input": "2025-05-12T01:01:02.371020Z",
     "iopub.status.busy": "2025-05-12T01:01:02.370773Z",
     "iopub.status.idle": "2025-05-12T01:01:10.035188Z",
     "shell.execute_reply": "2025-05-12T01:01:10.034654Z",
     "shell.execute_reply.started": "2025-05-12T01:01:02.370993Z"
    },
    "trusted": true
   },
   "outputs": [
    {
     "data": {
      "application/vnd.jupyter.widget-view+json": {
       "model_id": "1f29e351ef404156990d681222fbf63c",
       "version_major": 2,
       "version_minor": 0
      },
      "text/plain": [
       "config.json:   0%|          | 0.00/1.40k [00:00<?, ?B/s]"
      ]
     },
     "metadata": {},
     "output_type": "display_data"
    },
    {
     "name": "stderr",
     "output_type": "stream",
     "text": [
      "FlanT5Generator has generative capabilities, as `prepare_inputs_for_generation` is explicitly overwritten. However, it doesn't directly inherit from `GenerationMixin`. From 👉v4.50👈 onwards, `PreTrainedModel` will NOT inherit from `GenerationMixin`, and this model will lose the ability to call `generate` and other related functions.\n",
      "  - If you're using `trust_remote_code=True`, you can get rid of this warning by loading the model with an auto class. See https://huggingface.co/docs/transformers/en/model_doc/auto#auto-classes\n",
      "  - If you are the owner of the model architecture code, please modify your model class such that it inherits from `GenerationMixin` (after `PreTrainedModel`, otherwise you'll get an exception).\n",
      "  - If you are not the owner of the model architecture class, please contact the model code owner to update it.\n",
      "Xet Storage is enabled for this repo, but the 'hf_xet' package is not installed. Falling back to regular HTTP download. For better performance, install the package with: `pip install huggingface_hub[hf_xet]` or `pip install hf_xet`\n"
     ]
    },
    {
     "data": {
      "application/vnd.jupyter.widget-view+json": {
       "model_id": "0e26f525448f4b87804830675e1c0e89",
       "version_major": 2,
       "version_minor": 0
      },
      "text/plain": [
       "model.safetensors:   0%|          | 0.00/990M [00:00<?, ?B/s]"
      ]
     },
     "metadata": {},
     "output_type": "display_data"
    },
    {
     "data": {
      "application/vnd.jupyter.widget-view+json": {
       "model_id": "b505461b72bf4532942ff64ffde04b16",
       "version_major": 2,
       "version_minor": 0
      },
      "text/plain": [
       "generation_config.json:   0%|          | 0.00/147 [00:00<?, ?B/s]"
      ]
     },
     "metadata": {},
     "output_type": "display_data"
    },
    {
     "name": "stderr",
     "output_type": "stream",
     "text": [
      "You are using the default legacy behaviour of the <class 'transformers.models.t5.tokenization_t5.T5Tokenizer'>. This is expected, and simply means that the `legacy` (previous) behavior will be used so nothing changes for you. If you want to use the new behaviour, set `legacy=False`. This should only be set if you understand what it means, and thoroughly read the reason why this was added as explained in https://github.com/huggingface/transformers/pull/24565\n"
     ]
    }
   ],
   "source": [
    "\n",
    "lora_base_model = FlanT5Generator().to(device)\n",
    "base_model =  FlanT5Generator().to(device)\n",
    "\n",
    "\n",
    "peft_config = LoraConfig(\n",
    "    task_type=TaskType.SEQ_2_SEQ_LM,\n",
    "    inference_mode=False,\n",
    "    r=16,\n",
    "    lora_alpha=32,\n",
    "    lora_dropout=0.1,\n",
    "    target_modules=[\n",
    "        \"q\",  \n",
    "        \"v\", \n",
    "        \"k\", \n",
    "\n",
    "    ],\n",
    "    modules_to_save=[\"lm_head\"]\n",
    ")\n",
    "\n",
    "model = get_peft_model(lora_base_model, peft_config).to(device)"
   ]
  },
  {
   "cell_type": "code",
   "execution_count": null,
   "metadata": {
    "execution": {
     "iopub.execute_input": "2025-05-12T01:01:17.271690Z",
     "iopub.status.busy": "2025-05-12T01:01:17.271427Z",
     "iopub.status.idle": "2025-05-12T01:01:17.291695Z",
     "shell.execute_reply": "2025-05-12T01:01:17.291071Z",
     "shell.execute_reply.started": "2025-05-12T01:01:17.271674Z"
    },
    "trusted": true
   },
   "outputs": [],
   "source": [
    "\n",
    "train_texts, test_texts, train_feedbacks, test_feedbacks = train_test_split(\n",
    "    df[\"essay\"], df[\"feedback\"],  \n",
    "    test_size=0.2, random_state=42\n",
    ")\n",
    "\n",
    "\n",
    "train_dataset = EssayDataset(train_texts.reset_index(drop=True), train_feedbacks.reset_index(drop=True), tokenizer)\n",
    "test_dataset = EssayDataset(test_texts.reset_index(drop=True), test_feedbacks.reset_index(drop=True), tokenizer)\n",
    "\n",
    "\n",
    "train_loader = DataLoader(train_dataset, batch_size=4, shuffle=True)\n",
    "test_loader = DataLoader(test_dataset, batch_size=4, shuffle=False)\n",
    "\n",
    "\n",
    "optimizer = optim.AdamW(filter(lambda p: p.requires_grad, model.parameters()), lr=1e-5)"
   ]
  },
  {
   "cell_type": "code",
   "execution_count": 13,
   "metadata": {
    "execution": {
     "iopub.execute_input": "2025-05-12T01:05:12.032808Z",
     "iopub.status.busy": "2025-05-12T01:05:12.032022Z",
     "iopub.status.idle": "2025-05-12T02:49:31.455765Z",
     "shell.execute_reply": "2025-05-12T02:49:31.454829Z",
     "shell.execute_reply.started": "2025-05-12T01:05:12.032778Z"
    },
    "trusted": true
   },
   "outputs": [
    {
     "name": "stderr",
     "output_type": "stream",
     "text": [
      "                                                               \r"
     ]
    },
    {
     "name": "stdout",
     "output_type": "stream",
     "text": [
      "Before Training Metrics: {'rouge1': 0.11949522376871223, 'rouge2': 0.0070580395196649945, 'rougeL': 0.07960911020536737}\n",
      "Epoch: 1\n"
     ]
    },
    {
     "name": "stderr",
     "output_type": "stream",
     "text": [
      "                                                                            \r"
     ]
    },
    {
     "name": "stdout",
     "output_type": "stream",
     "text": [
      "Training Metrics: {'loss': 0.024010876193642616, 'rouge1': 0.5884157348136494, 'rouge2': 0.3705988010754764, 'rougeL': 0.5362814376838014}\n"
     ]
    },
    {
     "name": "stderr",
     "output_type": "stream",
     "text": [
      "                                                               "
     ]
    },
    {
     "name": "stdout",
     "output_type": "stream",
     "text": [
      "After Training Metrics: {'rouge1': 0.9839908867834269, 'rouge2': 0.9672073639437168, 'rougeL': 0.9839908867834269}\n"
     ]
    },
    {
     "name": "stderr",
     "output_type": "stream",
     "text": [
      "\r"
     ]
    }
   ],
   "source": [
    "if __name__ == \"__main__\":\n",
    "    b_metrics, b_predictions, b_targets = evaluate(base_model, test_loader, device, tokenizer)\n",
    "    print(\"Before Training Metrics:\", b_metrics)\n",
    "    for epoch in range(1):\n",
    "        print(f\"Epoch: {epoch+1}\")\n",
    "        train_metrics = train_epoch(model, train_loader, optimizer, device, tokenizer)\n",
    "        print(\"Training Metrics:\", train_metrics)\n",
    "        a_metrics, a_predictions, a_targets = evaluate(model, test_loader, device, tokenizer)\n",
    "        print(\"After Training Metrics:\", a_metrics)"
   ]
  },
  {
   "cell_type": "code",
   "execution_count": 15,
   "metadata": {
    "execution": {
     "iopub.execute_input": "2025-05-12T02:50:49.299448Z",
     "iopub.status.busy": "2025-05-12T02:50:49.298833Z",
     "iopub.status.idle": "2025-05-12T02:50:49.625320Z",
     "shell.execute_reply": "2025-05-12T02:50:49.624756Z",
     "shell.execute_reply.started": "2025-05-12T02:50:49.299427Z"
    },
    "trusted": true
   },
   "outputs": [
    {
     "name": "stderr",
     "output_type": "stream",
     "text": [
      "/usr/local/lib/python3.11/dist-packages/peft/utils/save_and_load.py:246: UserWarning: Could not find a config file in  - will assume that the vocabulary was not modified.\n",
      "  warnings.warn(\n"
     ]
    }
   ],
   "source": [
    "from peft import PeftModel\n",
    "\n",
    "model.save_pretrained(\"lora_flan_adapter\")\n"
   ]
  },
  {
   "cell_type": "code",
   "execution_count": 17,
   "metadata": {
    "execution": {
     "iopub.execute_input": "2025-05-12T02:51:57.688956Z",
     "iopub.status.busy": "2025-05-12T02:51:57.688695Z",
     "iopub.status.idle": "2025-05-12T02:51:57.692777Z",
     "shell.execute_reply": "2025-05-12T02:51:57.692056Z",
     "shell.execute_reply.started": "2025-05-12T02:51:57.688939Z"
    },
    "trusted": true
   },
   "outputs": [],
   "source": [
    "import matplotlib.pyplot as plt\n"
   ]
  },
  {
   "cell_type": "code",
   "execution_count": 26,
   "metadata": {
    "execution": {
     "iopub.execute_input": "2025-05-12T02:56:43.714959Z",
     "iopub.status.busy": "2025-05-12T02:56:43.714683Z",
     "iopub.status.idle": "2025-05-12T02:56:44.099273Z",
     "shell.execute_reply": "2025-05-12T02:56:44.098402Z",
     "shell.execute_reply.started": "2025-05-12T02:56:43.714940Z"
    },
    "trusted": true
   },
   "outputs": [
    {
     "data": {
      "image/png": "[encoded data removed]",
      "text/plain": [
       "<Figure size 600x500 with 1 Axes>"
      ]
     },
     "metadata": {},
     "output_type": "display_data"
    },
    {
     "data": {
      "image/png": "[encoded data removed]",
      "text/plain": [
       "<Figure size 600x500 with 1 Axes>"
      ]
     },
     "metadata": {},
     "output_type": "display_data"
    },
    {
     "data": {
      "image/png": "[encoded data removed]",
      "text/plain": [
       "<Figure size 600x500 with 1 Axes>"
      ]
     },
     "metadata": {},
     "output_type": "display_data"
    }
   ],
   "source": [
    "\n",
    "rouge_metrics = ['rouge1', 'rouge2', 'rougeL']\n",
    "b_values = [b_metrics[m] for m in rouge_metrics]\n",
    "a_values = [a_metrics[m] for m in rouge_metrics]\n",
    "\n",
    "\n",
    "for i, metric in enumerate(rouge_metrics):\n",
    "    plt.figure(figsize=(6, 5))  \n",
    "    plt.bar([0, 1], [b_values[i], a_values[i]], color=['skyblue', 'salmon'])\n",
    "    plt.xticks([0, 1], ['Before LoRA', 'After LoRA'])\n",
    "    plt.ylabel('F1 Score')\n",
    "    plt.title(f'ROUGE-{metric[-1]} Score')\n",
    "    plt.grid(True, axis='y', alpha=0.3)\n",
    "    plt.tight_layout()\n",
    "    plt.show()"
   ]
  },
  {
   "cell_type": "code",
   "execution_count": 19,
   "metadata": {
    "execution": {
     "iopub.execute_input": "2025-05-12T02:53:55.723378Z",
     "iopub.status.busy": "2025-05-12T02:53:55.722790Z",
     "iopub.status.idle": "2025-05-12T02:53:55.848992Z",
     "shell.execute_reply": "2025-05-12T02:53:55.848198Z",
     "shell.execute_reply.started": "2025-05-12T02:53:55.723343Z"
    },
    "trusted": true
   },
   "outputs": [
    {
     "name": "stdout",
     "output_type": "stream",
     "text": [
      "Structured output saved to model_output.json\n"
     ]
    }
   ],
   "source": [
    "save_structured_output(test_texts.tolist(), a_predictions, a_targets, output_prefix=\"model_output\")"
   ]
  },
  {
   "cell_type": "code",
   "execution_count": null,
   "metadata": {
    "execution": {
     "iopub.execute_input": "2025-05-12T02:55:18.128650Z",
     "iopub.status.busy": "2025-05-12T02:55:18.128060Z",
     "iopub.status.idle": "2025-05-12T02:55:18.135293Z",
     "shell.execute_reply": "2025-05-12T02:55:18.134412Z",
     "shell.execute_reply.started": "2025-05-12T02:55:18.128627Z"
    },
    "trusted": true
   },
   "outputs": [],
   "source": [
    "def predict_feedback(model, tokenizer, text, device, max_length=512):\n",
    "   \n",
    "    model.eval()\n",
    "    model.to(device)\n",
    "    \n",
    "   \n",
    "    text_cleaned = clean_text(text)\n",
    "\n",
    "    \n",
    "    inputs = tokenizer(\n",
    "        text_cleaned,\n",
    "        return_tensors=\"pt\",\n",
    "        max_length=max_length,\n",
    "        padding=\"max_length\",\n",
    "        truncation=True\n",
    "    ).to(device)\n",
    "\n",
    "  \n",
    "    with torch.no_grad():\n",
    "        outputs = model.generate(\n",
    "            input_ids=inputs[\"input_ids\"],\n",
    "            attention_mask=inputs[\"attention_mask\"],\n",
    "            max_length=max_length,\n",
    "            num_beams=4,\n",
    "            early_stopping=True,\n",
    "            temperature=0.7\n",
    "        )\n",
    "\n",
    "    \n",
    "    full_feedback = tokenizer.decode(outputs[0], skip_special_tokens=True)\n",
    "    \n",
    "    \n",
    "    result = {\"full_feedback\": full_feedback}\n",
    "    \n",
    "    \n",
    "    sections = {\n",
    "        \"overall_evaluation\": \"Overall Evaluation:\",\n",
    "        \"strengths\": \"Strengths:\",\n",
    "        \"areas_for_improvement\": \"Areas for Improvement:\"\n",
    "    }\n",
    "    \n",
    "    for key, marker in sections.items():\n",
    "        start_idx = full_feedback.find(marker)\n",
    "        if start_idx >= 0:\n",
    "            start_idx += len(marker)\n",
    "            end_idx = full_feedback.find(\"\\n\\n\", start_idx)\n",
    "            result[key] = full_feedback[start_idx:end_idx].strip() if end_idx > 0 else full_feedback[start_idx:].strip()\n",
    "        else:\n",
    "            result[key] = \"Not found in feedback\"\n",
    "    \n",
    "    return result\n",
    "\n",
    "\n"
   ]
  },
  {
   "cell_type": "code",
   "execution_count": 23,
   "metadata": {
    "execution": {
     "iopub.execute_input": "2025-05-12T02:55:24.876516Z",
     "iopub.status.busy": "2025-05-12T02:55:24.875988Z",
     "iopub.status.idle": "2025-05-12T02:55:26.812068Z",
     "shell.execute_reply": "2025-05-12T02:55:26.811398Z",
     "shell.execute_reply.started": "2025-05-12T02:55:24.876493Z"
    },
    "trusted": true
   },
   "outputs": [
    {
     "name": "stderr",
     "output_type": "stream",
     "text": [
      "/usr/local/lib/python3.11/dist-packages/transformers/generation/configuration_utils.py:631: UserWarning: `do_sample` is set to `False`. However, `temperature` is set to `0.7` -- this flag is only used in sample-based generation modes. You should set `do_sample=True` or unset `temperature`.\n",
      "  warnings.warn(\n"
     ]
    },
    {
     "name": "stdout",
     "output_type": "stream",
     "text": [
      "\n",
      "Full Generated Feedback:\n",
      " Overall Evaluation: This essay is underdeveloped and difficult to follow, with significant issues in structure and language. Strengths: The attempt to engage with the topic is visible. Areas for Improvement: Focus on organizing your thoughts clearly, using proper grammar, and fully developing your main ideas.\n",
      "\n",
      "Parsed Components:\n",
      "--------------------------------------------------\n",
      "Overall Evaluation: This essay is underdeveloped and difficult to follow, with significant issues in structure and language. Strengths: The attempt to engage with the topic is visible. Areas for Improvement: Focus on organizing your thoughts clearly, using proper grammar, and fully developing your main ideas.\n",
      "\n",
      "Strengths: The attempt to engage with the topic is visible. Areas for Improvement: Focus on organizing your thoughts clearly, using proper grammar, and fully developing your main ideas.\n",
      "\n",
      "Areas for Improvement: Focus on organizing your thoughts clearly, using proper grammar, and fully developing your main ideas.\n"
     ]
    }
   ],
   "source": [
    "# Example usage\n",
    "essay = \"\"\"\n",
    "Standardized testing has long been used to measure student achievement, but it fails to capture the full scope of a student's abilities. \n",
    "While some argue that tests provide objective data, they often reduce learning to memorization rather than critical thinking. \n",
    "A single test cannot reflect creativity, collaboration, or problem-solving skills—all essential in real-world settings. \n",
    "Moreover, standardized exams disproportionately disadvantage students from under-resourced backgrounds, reinforcing existing inequalities. \n",
    "Instead of focusing on test scores, schools should adopt a more holistic approach to assessment. \n",
    "Project-based learning, portfolios, and teacher evaluations offer more comprehensive insights into student growth. \n",
    "Countries like Finland, known for top-performing education systems, have minimized standardized testing and instead emphasize trust in teachers and student-centered learning. \n",
    "Their success demonstrates that meaningful education doesn't need to be driven by exams. \n",
    "In conclusion, standardized tests should not define academic success. \n",
    "Schools must evolve to measure what truly matters: the ability to think, create, and apply knowledge in diverse contexts.\n",
    "\"\"\"\n",
    "\n",
    "result = predict_feedback(model, tokenizer, essay, device)\n",
    "print(\"\\nFull Generated Feedback:\\n\", result['full_feedback'])\n",
    "print(\"\\nParsed Components:\")\n",
    "print(\"-\" * 50)\n",
    "print(\"Overall Evaluation:\", result['overall_evaluation'])\n",
    "print(\"\\nStrengths:\", result['strengths'])\n",
    "print(\"\\nAreas for Improvement:\", result['areas_for_improvement'])"
   ]
  }
 ],
 "metadata": {
  "kaggle": {
   "accelerator": "gpu",
   "dataSources": [
    {
     "datasetId": 7348338,
     "sourceId": 11707473,
     "sourceType": "datasetVersion"
    }
   ],
   "dockerImageVersionId": 31012,
   "isGpuEnabled": true,
   "isInternetEnabled": true,
   "language": "python",
   "sourceType": "notebook"
  },
  "kernelspec": {
   "display_name": "Python 3",
   "language": "python",
   "name": "python3"
  },
  "language_info": {
   "codemirror_mode": {
    "name": "ipython",
    "version": 3
   },
   "file_extension": ".py",
   "mimetype": "text/x-python",
   "name": "python",
   "nbconvert_exporter": "python",
   "pygments_lexer": "ipython3",
   "version": "3.11.11"
  }
 },
 "nbformat": 4,
 "nbformat_minor": 4
}
