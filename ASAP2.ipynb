{
 "cells": [
  {
   "cell_type": "code",
   "execution_count": 1,
   "metadata": {
    "_cell_guid": "b1076dfc-b9ad-4769-8c92-a6c4dae69d19",
    "_uuid": "8f2839f25d086af736a60e9eeb907d3b93b6e0e5",
    "execution": {
     "iopub.execute_input": "2025-05-10T09:03:32.245124Z",
     "iopub.status.busy": "2025-05-10T09:03:32.244372Z",
     "iopub.status.idle": "2025-05-10T09:03:32.258036Z",
     "shell.execute_reply": "2025-05-10T09:03:32.257275Z",
     "shell.execute_reply.started": "2025-05-10T09:03:32.245089Z"
    },
    "trusted": true
   },
   "outputs": [
    {
     "name": "stdout",
     "output_type": "stream",
     "text": [
      "/kaggle/input/essay-scoring/balanced_essay_data_2.csv\n"
     ]
    }
   ],
   "source": [
    "import numpy as np\n",
    "import pandas as pd\n",
    "import torch\n",
    "import torch.nn as nn\n",
    "import torch.nn.functional as F\n",
    "from torch.utils.data import Dataset\n",
    "from transformers import AutoModel, AutoTokenizer, AutoConfig\n",
    "import re\n",
    "import pandas as pd\n",
    "from tqdm import tqdm\n",
    "import os\n",
    "from collections import Counter\n",
    "from torch.utils.data import DataLoader\n",
    "import torch.optim as optim\n",
    "from sklearn.model_selection import train_test_split\n",
    "import json\n",
    "from sklearn.preprocessing import MinMaxScaler\n",
    "from sklearn.metrics import mean_squared_error, mean_absolute_error, r2_score\n",
    "import matplotlib.pyplot as plt\n",
    "from peft import get_peft_model, LoraConfig, TaskType\n",
    "\n",
    "\n",
    "for dirname, _, filenames in os.walk('/kaggle/input'):\n",
    "    for filename in filenames:\n",
    "        print(os.path.join(dirname, filename))"
   ]
  },
  {
   "cell_type": "code",
   "execution_count": 2,
   "metadata": {
    "execution": {
     "iopub.execute_input": "2025-05-10T09:03:35.872533Z",
     "iopub.status.busy": "2025-05-10T09:03:35.871811Z",
     "iopub.status.idle": "2025-05-10T09:03:35.895483Z",
     "shell.execute_reply": "2025-05-10T09:03:35.894912Z",
     "shell.execute_reply.started": "2025-05-10T09:03:35.872509Z"
    },
    "trusted": true
   },
   "outputs": [],
   "source": [
    "class DebertaRegressor(nn.Module):\n",
    "    def __init__(self, model_name=\"microsoft/deberta-v3-large\"):\n",
    "        super().__init__()\n",
    "        self.config = AutoConfig.from_pretrained(model_name)\n",
    "        self.deberta = AutoModel.from_pretrained(model_name, config=self.config)\n",
    "        self.regressor = nn.Linear(self.config.hidden_size, 1)\n",
    "        self.base_model = self.deberta\n",
    "\n",
    "    def mean_pooling(self, model_output, attention_mask):\n",
    "        token_embeddings = model_output.last_hidden_state\n",
    "        input_mask_expanded = attention_mask.unsqueeze(-1).expand(token_embeddings.size())\n",
    "        return (token_embeddings * input_mask_expanded).sum(1) / input_mask_expanded.sum(1)\n",
    "\n",
    "    def forward(self, input_ids=None, attention_mask=None, **kwargs):\n",
    "        outputs = self.deberta(input_ids=input_ids, attention_mask=attention_mask, **kwargs)\n",
    "        pooled_output = self.mean_pooling(outputs, attention_mask)\n",
    "        logits = self.regressor(pooled_output).squeeze(-1)\n",
    "        return torch.sigmoid(logits)\n",
    "\n",
    "\n",
    "\n",
    "class EssayDataset(Dataset):\n",
    "    def __init__(self, texts, scores, tokenizer, weights=None, max_length=512):\n",
    "        self.texts = texts\n",
    "        self.scores = scores\n",
    "        self.weights = weights\n",
    "        self.tokenizer = tokenizer\n",
    "        self.max_length = max_length\n",
    "\n",
    "    def __len__(self):\n",
    "        return len(self.texts)\n",
    "\n",
    "    def __getitem__(self, idx):\n",
    "        text = self.texts[idx]\n",
    "        score = self.scores[idx]\n",
    "\n",
    "        tokens = self.tokenizer(\n",
    "            text,\n",
    "            return_tensors=\"pt\",\n",
    "            max_length=self.max_length,\n",
    "            padding=\"max_length\",\n",
    "            truncation=True\n",
    "        )\n",
    "\n",
    "        input_ids = tokens[\"input_ids\"].squeeze(0)\n",
    "        attention_mask = tokens[\"attention_mask\"].squeeze(0)\n",
    "\n",
    "        item = {\n",
    "            \"input_ids\": input_ids,\n",
    "            \"attention_mask\": attention_mask,\n",
    "            \"score\": torch.tensor(score, dtype=torch.float)\n",
    "        }\n",
    "\n",
    "        if self.weights is not None:\n",
    "            item[\"weight\"] = torch.tensor(self.weights[idx], dtype=torch.float)\n",
    "\n",
    "        return item\n",
    "\n",
    "\n",
    "\n",
    "\n",
    "def train_epoch(model, dataloader, optimizer, device):\n",
    "    model.train()\n",
    "    all_preds = []\n",
    "    all_targets = []\n",
    "\n",
    "    progress_bar = tqdm(dataloader, desc=\"Training\", leave=False)\n",
    "\n",
    "    for batch in progress_bar:\n",
    "        input_ids = batch[\"input_ids\"].to(device)\n",
    "        attention_mask = batch[\"attention_mask\"].to(device)\n",
    "        scores = batch[\"score\"].to(device)\n",
    "\n",
    "        optimizer.zero_grad()\n",
    "        predictions = model(input_ids=input_ids, attention_mask=attention_mask)\n",
    "        weights = batch[\"weight\"].to(device)\n",
    "        loss = torch.mean(weights * (predictions - scores) ** 2)\n",
    "\n",
    "        loss.backward()\n",
    "        torch.nn.utils.clip_grad_norm_(model.parameters(), 1.0)\n",
    "        optimizer.step()\n",
    "\n",
    "        all_preds.extend(predictions.detach().cpu().numpy())\n",
    "        all_targets.extend(scores.detach().cpu().numpy())\n",
    "\n",
    "        progress_bar.set_postfix(loss=loss.item())\n",
    "\n",
    "    mse = mean_squared_error(all_targets, all_preds)\n",
    "    mae = mean_absolute_error(all_targets, all_preds)\n",
    "    r2 = r2_score(all_targets, all_preds)\n",
    "\n",
    "    metrics = {\n",
    "        \"MSE\": mse,\n",
    "        \"MAE\": mae,\n",
    "        \"R2\": r2\n",
    "    }\n",
    "\n",
    "    return metrics\n",
    "\n",
    "\n",
    "def evaluate(model, dataloader, device):\n",
    "    model.eval()\n",
    "    predictions_list = []\n",
    "    targets_list = []\n",
    "\n",
    "    with torch.no_grad():\n",
    "        for batch in tqdm(dataloader, desc=\"Evaluating\", leave=False):\n",
    "            input_ids = batch[\"input_ids\"].to(device)\n",
    "            attention_mask = batch[\"attention_mask\"].to(device)\n",
    "            scores = batch[\"score\"].to(device)\n",
    "\n",
    "            preds = model(input_ids=input_ids, attention_mask=attention_mask)\n",
    "\n",
    "            predictions_list.extend(preds.cpu().numpy())\n",
    "            targets_list.extend(scores.cpu().numpy())\n",
    "\n",
    "    predictions_array = np.array(predictions_list)\n",
    "    targets_array = np.array(targets_list)\n",
    "\n",
    "    mse = mean_squared_error(targets_array, predictions_array)\n",
    "    mae = mean_absolute_error(targets_array, predictions_array)\n",
    "    r2 = r2_score(targets_array, predictions_array)\n",
    "\n",
    "    metrics = {\n",
    "        \"MSE\": mse,\n",
    "        \"MAE\": mae,\n",
    "        \"R2\": r2\n",
    "    }\n",
    "\n",
    "    return metrics, predictions_list, targets_list\n",
    "\n",
    "\n",
    "\n",
    "def clean_text(text):\n",
    "    text = text.lower()\n",
    "    text = re.sub(r'<[^>]+>', ' ', text)              \n",
    "    text = re.sub(r'https?://\\S+|www\\.\\S+', '', text) \n",
    "    text = re.sub(r\"[^a-z0-9.,!?'\\s]\", ' ', text)      \n",
    "    text = re.sub(r'\\s+', ' ', text).strip()           \n",
    "    return text\n",
    "\n",
    "\n",
    "def load_dataset(scale_scores=True, min_len=30):\n",
    "    df = pd.read_csv(\"/kaggle/input/essay-scoring/balanced_essay_data_2.csv\") \n",
    "\n",
    "    df = df.dropna(subset=['essay', 'score'])\n",
    "    df = df.drop_duplicates(subset='essay').reset_index(drop=True)\n",
    "    \n",
    "\n",
    "    df = df.sample(frac=1, random_state=42).reset_index(drop=True)\n",
    "    df = df[df['essay'].str.strip() != \"\"]\n",
    "    df['essay'] = df['essay'].apply(clean_text)\n",
    "    df = df[df['essay'].str.split().apply(len) >= min_len]\n",
    "    df['score'] = np.floor(df['score'] * 10) / 10\n",
    "    weights = compute_score_weights(df['score']).reset_index(drop=True)\n",
    "    df['weight'] = weights\n",
    "\n",
    "    return df.reset_index(drop=True)\n",
    "\n",
    "\n",
    "def save_structured_output(texts, predictions, targets, output_prefix=\"structured_output\"):\n",
    "    structured_data = []\n",
    "\n",
    "    for i in range(len(texts)):\n",
    "        item = {\n",
    "            \"essay_id\": i,\n",
    "            \"essay_text\": texts[i],\n",
    "            \"predicted_score\": round(float(predictions[i]), 2),\n",
    "            \"actual_score\": float(targets[i])\n",
    "        }\n",
    "        structured_data.append(item)\n",
    "\n",
    "    \n",
    "    with open(f\"{output_prefix}.json\", \"w\", encoding=\"utf-8\") as f_json:\n",
    "        json.dump(structured_data, f_json, indent=4)\n",
    "\n",
    "def compute_score_weights(scores):\n",
    "    score_counts = scores.value_counts(normalize=True) \n",
    "    score_weights = 1.0 / score_counts\n",
    "    score_weights /= score_weights.sum()\n",
    "    return scores.map(score_weights)\n"
   ]
  },
  {
   "cell_type": "code",
   "execution_count": null,
   "metadata": {
    "execution": {
     "iopub.execute_input": "2025-05-10T09:03:44.106883Z",
     "iopub.status.busy": "2025-05-10T09:03:44.106597Z"
    },
    "trusted": true
   },
   "outputs": [],
   "source": [
    "df = load_dataset()"
   ]
  },
  {
   "cell_type": "code",
   "execution_count": 4,
   "metadata": {
    "execution": {
     "iopub.execute_input": "2025-05-09T11:38:06.035040Z",
     "iopub.status.busy": "2025-05-09T11:38:06.034724Z",
     "iopub.status.idle": "2025-05-09T11:38:06.056114Z",
     "shell.execute_reply": "2025-05-09T11:38:06.055486Z",
     "shell.execute_reply.started": "2025-05-09T11:38:06.035014Z"
    },
    "trusted": true
   },
   "outputs": [
    {
     "name": "stderr",
     "output_type": "stream",
     "text": [
      "/usr/local/lib/python3.11/dist-packages/pandas/io/formats/format.py:1458: RuntimeWarning: invalid value encountered in greater\n",
      "  has_large_values = (abs_vals > 1e6).any()\n",
      "/usr/local/lib/python3.11/dist-packages/pandas/io/formats/format.py:1459: RuntimeWarning: invalid value encountered in less\n",
      "  has_small_values = ((abs_vals < 10 ** (-self.digits)) & (abs_vals > 0)).any()\n",
      "/usr/local/lib/python3.11/dist-packages/pandas/io/formats/format.py:1459: RuntimeWarning: invalid value encountered in greater\n",
      "  has_small_values = ((abs_vals < 10 ** (-self.digits)) & (abs_vals > 0)).any()\n"
     ]
    },
    {
     "data": {
      "text/html": [
       "<div>\n",
       "<style scoped>\n",
       "    .dataframe tbody tr th:only-of-type {\n",
       "        vertical-align: middle;\n",
       "    }\n",
       "\n",
       "    .dataframe tbody tr th {\n",
       "        vertical-align: top;\n",
       "    }\n",
       "\n",
       "    .dataframe thead th {\n",
       "        text-align: right;\n",
       "    }\n",
       "</style>\n",
       "<table border=\"1\" class=\"dataframe\">\n",
       "  <thead>\n",
       "    <tr style=\"text-align: right;\">\n",
       "      <th></th>\n",
       "      <th>essay</th>\n",
       "      <th>score</th>\n",
       "      <th>weight</th>\n",
       "    </tr>\n",
       "  </thead>\n",
       "  <tbody>\n",
       "    <tr>\n",
       "      <th>0</th>\n",
       "      <td>do you really think that there is aliens on ma...</td>\n",
       "      <td>0.4</td>\n",
       "      <td>0.124824</td>\n",
       "    </tr>\n",
       "    <tr>\n",
       "      <th>1</th>\n",
       "      <td>in a cowboy who rode the waves , luke had made...</td>\n",
       "      <td>0.2</td>\n",
       "      <td>0.180615</td>\n",
       "    </tr>\n",
       "    <tr>\n",
       "      <th>2</th>\n",
       "      <td>venus is really not a planet bc from earth it'...</td>\n",
       "      <td>0.0</td>\n",
       "      <td>0.133081</td>\n",
       "    </tr>\n",
       "    <tr>\n",
       "      <th>3</th>\n",
       "      <td>the new technology that allows you to identify...</td>\n",
       "      <td>0.4</td>\n",
       "      <td>0.124824</td>\n",
       "    </tr>\n",
       "    <tr>\n",
       "      <th>4</th>\n",
       "      <td>are driverless cars the next big thing? yes, y...</td>\n",
       "      <td>0.4</td>\n",
       "      <td>0.124824</td>\n",
       "    </tr>\n",
       "    <tr>\n",
       "      <th>...</th>\n",
       "      <td>...</td>\n",
       "      <td>...</td>\n",
       "      <td>...</td>\n",
       "    </tr>\n",
       "    <tr>\n",
       "      <th>60897</th>\n",
       "      <td>venus is a planet also known as the evening st...</td>\n",
       "      <td>0.0</td>\n",
       "      <td>NaN</td>\n",
       "    </tr>\n",
       "    <tr>\n",
       "      <th>60898</th>\n",
       "      <td>hello , my name is shawn, and i will be arguin...</td>\n",
       "      <td>0.2</td>\n",
       "      <td>NaN</td>\n",
       "    </tr>\n",
       "    <tr>\n",
       "      <th>60899</th>\n",
       "      <td>i make a claim for the value of the technology...</td>\n",
       "      <td>0.2</td>\n",
       "      <td>NaN</td>\n",
       "    </tr>\n",
       "    <tr>\n",
       "      <th>60900</th>\n",
       "      <td>the author talks about venus being a dangreour...</td>\n",
       "      <td>0.0</td>\n",
       "      <td>NaN</td>\n",
       "    </tr>\n",
       "    <tr>\n",
       "      <th>60901</th>\n",
       "      <td>the reputation of venus is challenging for hum...</td>\n",
       "      <td>0.0</td>\n",
       "      <td>NaN</td>\n",
       "    </tr>\n",
       "  </tbody>\n",
       "</table>\n",
       "<p>60902 rows × 3 columns</p>\n",
       "</div>"
      ],
      "text/plain": [
       "                                                   essay  score    weight\n",
       "0      do you really think that there is aliens on ma...    0.4  0.124824\n",
       "1      in a cowboy who rode the waves , luke had made...    0.2  0.180615\n",
       "2      venus is really not a planet bc from earth it'...    0.0  0.133081\n",
       "3      the new technology that allows you to identify...    0.4  0.124824\n",
       "4      are driverless cars the next big thing? yes, y...    0.4  0.124824\n",
       "...                                                  ...    ...       ...\n",
       "60897  venus is a planet also known as the evening st...    0.0       NaN\n",
       "60898  hello , my name is shawn, and i will be arguin...    0.2       NaN\n",
       "60899  i make a claim for the value of the technology...    0.2       NaN\n",
       "60900  the author talks about venus being a dangreour...    0.0       NaN\n",
       "60901  the reputation of venus is challenging for hum...    0.0       NaN\n",
       "\n",
       "[60902 rows x 3 columns]"
      ]
     },
     "execution_count": 4,
     "metadata": {},
     "output_type": "execute_result"
    }
   ],
   "source": [
    "df"
   ]
  },
  {
   "cell_type": "code",
   "execution_count": 5,
   "metadata": {
    "execution": {
     "iopub.execute_input": "2025-05-09T11:38:06.056922Z",
     "iopub.status.busy": "2025-05-09T11:38:06.056715Z",
     "iopub.status.idle": "2025-05-09T11:38:06.068460Z",
     "shell.execute_reply": "2025-05-09T11:38:06.067849Z",
     "shell.execute_reply.started": "2025-05-09T11:38:06.056905Z"
    },
    "trusted": true
   },
   "outputs": [],
   "source": [
    "df = df.dropna(subset=['essay', 'score','weight'])"
   ]
  },
  {
   "cell_type": "code",
   "execution_count": 6,
   "metadata": {
    "execution": {
     "iopub.execute_input": "2025-05-09T11:38:06.070400Z",
     "iopub.status.busy": "2025-05-09T11:38:06.069835Z",
     "iopub.status.idle": "2025-05-09T11:38:06.083062Z",
     "shell.execute_reply": "2025-05-09T11:38:06.082507Z",
     "shell.execute_reply.started": "2025-05-09T11:38:06.070382Z"
    },
    "trusted": true
   },
   "outputs": [
    {
     "data": {
      "text/html": [
       "<div>\n",
       "<style scoped>\n",
       "    .dataframe tbody tr th:only-of-type {\n",
       "        vertical-align: middle;\n",
       "    }\n",
       "\n",
       "    .dataframe tbody tr th {\n",
       "        vertical-align: top;\n",
       "    }\n",
       "\n",
       "    .dataframe thead th {\n",
       "        text-align: right;\n",
       "    }\n",
       "</style>\n",
       "<table border=\"1\" class=\"dataframe\">\n",
       "  <thead>\n",
       "    <tr style=\"text-align: right;\">\n",
       "      <th></th>\n",
       "      <th>essay</th>\n",
       "      <th>score</th>\n",
       "      <th>weight</th>\n",
       "    </tr>\n",
       "  </thead>\n",
       "  <tbody>\n",
       "    <tr>\n",
       "      <th>0</th>\n",
       "      <td>do you really think that there is aliens on ma...</td>\n",
       "      <td>0.4</td>\n",
       "      <td>0.124824</td>\n",
       "    </tr>\n",
       "    <tr>\n",
       "      <th>1</th>\n",
       "      <td>in a cowboy who rode the waves , luke had made...</td>\n",
       "      <td>0.2</td>\n",
       "      <td>0.180615</td>\n",
       "    </tr>\n",
       "    <tr>\n",
       "      <th>2</th>\n",
       "      <td>venus is really not a planet bc from earth it'...</td>\n",
       "      <td>0.0</td>\n",
       "      <td>0.133081</td>\n",
       "    </tr>\n",
       "    <tr>\n",
       "      <th>3</th>\n",
       "      <td>the new technology that allows you to identify...</td>\n",
       "      <td>0.4</td>\n",
       "      <td>0.124824</td>\n",
       "    </tr>\n",
       "    <tr>\n",
       "      <th>4</th>\n",
       "      <td>are driverless cars the next big thing? yes, y...</td>\n",
       "      <td>0.4</td>\n",
       "      <td>0.124824</td>\n",
       "    </tr>\n",
       "    <tr>\n",
       "      <th>...</th>\n",
       "      <td>...</td>\n",
       "      <td>...</td>\n",
       "      <td>...</td>\n",
       "    </tr>\n",
       "    <tr>\n",
       "      <th>60863</th>\n",
       "      <td>although it may seem that there is a face on m...</td>\n",
       "      <td>0.4</td>\n",
       "      <td>0.133081</td>\n",
       "    </tr>\n",
       "    <tr>\n",
       "      <th>60864</th>\n",
       "      <td>one time a generic name was assigned to him in...</td>\n",
       "      <td>0.8</td>\n",
       "      <td>0.180615</td>\n",
       "    </tr>\n",
       "    <tr>\n",
       "      <th>60865</th>\n",
       "      <td>a few days after may 24,1976 nasa discovered a...</td>\n",
       "      <td>0.4</td>\n",
       "      <td>0.180615</td>\n",
       "    </tr>\n",
       "    <tr>\n",
       "      <th>60866</th>\n",
       "      <td>limting car usage is good because of so many w...</td>\n",
       "      <td>0.2</td>\n",
       "      <td>0.133081</td>\n",
       "    </tr>\n",
       "    <tr>\n",
       "      <th>60867</th>\n",
       "      <td>dear principal, i think that policy number one...</td>\n",
       "      <td>0.4</td>\n",
       "      <td>0.133081</td>\n",
       "    </tr>\n",
       "  </tbody>\n",
       "</table>\n",
       "<p>60868 rows × 3 columns</p>\n",
       "</div>"
      ],
      "text/plain": [
       "                                                   essay  score    weight\n",
       "0      do you really think that there is aliens on ma...    0.4  0.124824\n",
       "1      in a cowboy who rode the waves , luke had made...    0.2  0.180615\n",
       "2      venus is really not a planet bc from earth it'...    0.0  0.133081\n",
       "3      the new technology that allows you to identify...    0.4  0.124824\n",
       "4      are driverless cars the next big thing? yes, y...    0.4  0.124824\n",
       "...                                                  ...    ...       ...\n",
       "60863  although it may seem that there is a face on m...    0.4  0.133081\n",
       "60864  one time a generic name was assigned to him in...    0.8  0.180615\n",
       "60865  a few days after may 24,1976 nasa discovered a...    0.4  0.180615\n",
       "60866  limting car usage is good because of so many w...    0.2  0.133081\n",
       "60867  dear principal, i think that policy number one...    0.4  0.133081\n",
       "\n",
       "[60868 rows x 3 columns]"
      ]
     },
     "execution_count": 6,
     "metadata": {},
     "output_type": "execute_result"
    }
   ],
   "source": [
    "df"
   ]
  },
  {
   "cell_type": "code",
   "execution_count": 7,
   "metadata": {
    "execution": {
     "iopub.execute_input": "2025-05-09T11:38:06.774248Z",
     "iopub.status.busy": "2025-05-09T11:38:06.773549Z",
     "iopub.status.idle": "2025-05-09T11:38:07.004318Z",
     "shell.execute_reply": "2025-05-09T11:38:07.003521Z",
     "shell.execute_reply.started": "2025-05-09T11:38:06.774221Z"
    },
    "trusted": true
   },
   "outputs": [
    {
     "data": {
      "image/png": "[encoded data removed]",
      "text/plain": [
       "<Figure size 640x480 with 1 Axes>"
      ]
     },
     "metadata": {},
     "output_type": "display_data"
    }
   ],
   "source": [
    "import matplotlib.pyplot as plt\n",
    "plt.hist(df['score'], bins=50)\n",
    "plt.title(\"Score Distribution\")\n",
    "plt.show()\n"
   ]
  },
  {
   "cell_type": "code",
   "execution_count": 8,
   "metadata": {
    "execution": {
     "iopub.execute_input": "2025-05-09T11:38:10.568611Z",
     "iopub.status.busy": "2025-05-09T11:38:10.568338Z",
     "iopub.status.idle": "2025-05-09T11:38:10.575832Z",
     "shell.execute_reply": "2025-05-09T11:38:10.575133Z",
     "shell.execute_reply.started": "2025-05-09T11:38:10.568590Z"
    },
    "trusted": true
   },
   "outputs": [
    {
     "data": {
      "text/plain": [
       "score\n",
       "0.4    12776\n",
       "0.0    11974\n",
       "0.8    11423\n",
       "0.6     9651\n",
       "0.2     8829\n",
       "1.0     6215\n",
       "Name: count, dtype: int64"
      ]
     },
     "execution_count": 8,
     "metadata": {},
     "output_type": "execute_result"
    }
   ],
   "source": [
    "df[\"score\"].value_counts()"
   ]
  },
  {
   "cell_type": "code",
   "execution_count": 9,
   "metadata": {
    "execution": {
     "iopub.execute_input": "2025-05-09T11:38:13.582347Z",
     "iopub.status.busy": "2025-05-09T11:38:13.581885Z",
     "iopub.status.idle": "2025-05-09T11:38:16.819131Z",
     "shell.execute_reply": "2025-05-09T11:38:16.818574Z",
     "shell.execute_reply.started": "2025-05-09T11:38:13.582325Z"
    },
    "trusted": true
   },
   "outputs": [
    {
     "data": {
      "application/vnd.jupyter.widget-view+json": {
       "model_id": "33c8d154c678425e935f0120ca155dd7",
       "version_major": 2,
       "version_minor": 0
      },
      "text/plain": [
       "tokenizer_config.json:   0%|          | 0.00/52.0 [00:00<?, ?B/s]"
      ]
     },
     "metadata": {},
     "output_type": "display_data"
    },
    {
     "data": {
      "application/vnd.jupyter.widget-view+json": {
       "model_id": "e76f3a2da5dc41a19e0c8e941810c7a7",
       "version_major": 2,
       "version_minor": 0
      },
      "text/plain": [
       "config.json:   0%|          | 0.00/580 [00:00<?, ?B/s]"
      ]
     },
     "metadata": {},
     "output_type": "display_data"
    },
    {
     "name": "stderr",
     "output_type": "stream",
     "text": [
      "Xet Storage is enabled for this repo, but the 'hf_xet' package is not installed. Falling back to regular HTTP download. For better performance, install the package with: `pip install huggingface_hub[hf_xet]` or `pip install hf_xet`\n"
     ]
    },
    {
     "data": {
      "application/vnd.jupyter.widget-view+json": {
       "model_id": "6208b2af37974a6081d33333ae42c8f6",
       "version_major": 2,
       "version_minor": 0
      },
      "text/plain": [
       "spm.model:   0%|          | 0.00/2.46M [00:00<?, ?B/s]"
      ]
     },
     "metadata": {},
     "output_type": "display_data"
    },
    {
     "name": "stderr",
     "output_type": "stream",
     "text": [
      "/usr/local/lib/python3.11/dist-packages/transformers/convert_slow_tokenizer.py:559: UserWarning: The sentencepiece tokenizer that you are converting to a fast tokenizer uses the byte fallback option which is not implemented in the fast tokenizers. In practice this means that the fast version of the tokenizer can produce unknown tokens whereas the sentencepiece version would have converted these unknown tokens into a sequence of byte tokens matching the original piece of text.\n",
      "  warnings.warn(\n"
     ]
    }
   ],
   "source": [
    "device = torch.device(\"cuda\" if torch.cuda.is_available() else \"cpu\")\n",
    "tokenizer = AutoTokenizer.from_pretrained(\"microsoft/deberta-v3-large\")"
   ]
  },
  {
   "cell_type": "code",
   "execution_count": 10,
   "metadata": {
    "execution": {
     "iopub.execute_input": "2025-05-09T11:38:17.073435Z",
     "iopub.status.busy": "2025-05-09T11:38:17.072968Z",
     "iopub.status.idle": "2025-05-09T11:38:26.029814Z",
     "shell.execute_reply": "2025-05-09T11:38:26.028818Z",
     "shell.execute_reply.started": "2025-05-09T11:38:17.073415Z"
    },
    "trusted": true
   },
   "outputs": [
    {
     "name": "stderr",
     "output_type": "stream",
     "text": [
      "Xet Storage is enabled for this repo, but the 'hf_xet' package is not installed. Falling back to regular HTTP download. For better performance, install the package with: `pip install huggingface_hub[hf_xet]` or `pip install hf_xet`\n"
     ]
    },
    {
     "data": {
      "application/vnd.jupyter.widget-view+json": {
       "model_id": "0c630525dd2f4e46945052b34eea59d1",
       "version_major": 2,
       "version_minor": 0
      },
      "text/plain": [
       "pytorch_model.bin:   0%|          | 0.00/874M [00:00<?, ?B/s]"
      ]
     },
     "metadata": {},
     "output_type": "display_data"
    },
    {
     "name": "stderr",
     "output_type": "stream",
     "text": [
      "Xet Storage is enabled for this repo, but the 'hf_xet' package is not installed. Falling back to regular HTTP download. For better performance, install the package with: `pip install huggingface_hub[hf_xet]` or `pip install hf_xet`\n"
     ]
    },
    {
     "data": {
      "application/vnd.jupyter.widget-view+json": {
       "model_id": "edac3ed4f809435aab74c6be17abaade",
       "version_major": 2,
       "version_minor": 0
      },
      "text/plain": [
       "model.safetensors:   0%|          | 0.00/874M [00:00<?, ?B/s]"
      ]
     },
     "metadata": {},
     "output_type": "display_data"
    }
   ],
   "source": [
    "base_model = DebertaRegressor().to(device)\n",
    "\n",
    "peft_config = LoraConfig(\n",
    "    task_type=TaskType.FEATURE_EXTRACTION,\n",
    "    inference_mode=False,\n",
    "    r=16,\n",
    "    lora_alpha=32,\n",
    "    lora_dropout=0.1,\n",
    "    target_modules=[\"query_proj\", \"key_proj\", \"value_proj\"], \n",
    "    modules_to_save=[\"regressor\"] \n",
    ")\n",
    "\n",
    "\n",
    "\n",
    "model = get_peft_model(base_model, peft_config).to(device)"
   ]
  },
  {
   "cell_type": "code",
   "execution_count": 11,
   "metadata": {
    "execution": {
     "iopub.execute_input": "2025-05-09T11:38:26.034153Z",
     "iopub.status.busy": "2025-05-09T11:38:26.033912Z",
     "iopub.status.idle": "2025-05-09T11:38:26.071760Z",
     "shell.execute_reply": "2025-05-09T11:38:26.071033Z",
     "shell.execute_reply.started": "2025-05-09T11:38:26.034117Z"
    },
    "trusted": true
   },
   "outputs": [],
   "source": [
    "train_texts,test_texts, train_labels, test_labels = train_test_split(\n",
    "    df[\"essay\"], df[\"score\"],\n",
    "    test_size=0.2, random_state=42, stratify=df[\"score\"]\n",
    ")\n",
    "\n",
    "train_dataset = EssayDataset(train_texts.reset_index(drop=True), train_labels.reset_index(drop=True), tokenizer,df[\"weight\"])\n",
    "test_dataset = EssayDataset(test_texts.reset_index(drop=True), test_labels.reset_index(drop=True), tokenizer)\n",
    "\n",
    "train_loader = DataLoader(train_dataset, batch_size=4, shuffle=True)\n",
    "test_loader = DataLoader(test_dataset, batch_size=4, shuffle=False)\n",
    "\n",
    "optimizer = optim.AdamW(filter(lambda p: p.requires_grad, model.parameters()), lr=1e-5)"
   ]
  },
  {
   "cell_type": "code",
   "execution_count": 13,
   "metadata": {
    "execution": {
     "iopub.execute_input": "2025-05-09T11:38:47.772265Z",
     "iopub.status.busy": "2025-05-09T11:38:47.771667Z",
     "iopub.status.idle": "2025-05-09T15:00:10.689354Z",
     "shell.execute_reply": "2025-05-09T15:00:10.688612Z",
     "shell.execute_reply.started": "2025-05-09T11:38:47.772241Z"
    },
    "trusted": true
   },
   "outputs": [
    {
     "name": "stderr",
     "output_type": "stream",
     "text": [
      "                                                               \r"
     ]
    },
    {
     "name": "stdout",
     "output_type": "stream",
     "text": [
      "Before Training Metrics: {'MSE': 0.12619485, 'MAE': 0.29722437, 'R2': -0.18195444615267986}\n",
      "Epoch: 1\n"
     ]
    },
    {
     "name": "stderr",
     "output_type": "stream",
     "text": [
      "                                                                                 \r"
     ]
    },
    {
     "name": "stdout",
     "output_type": "stream",
     "text": [
      "Training Metrics: {'MSE': 0.030552413, 'MAE': 0.12717074, 'R2': 0.7138277711892231}\n"
     ]
    },
    {
     "name": "stderr",
     "output_type": "stream",
     "text": [
      "                                                               "
     ]
    },
    {
     "name": "stdout",
     "output_type": "stream",
     "text": [
      "After Training Metrics: {'MSE': 0.021391856, 'MAE': 0.10365381, 'R2': 0.7996415986789548}\n"
     ]
    },
    {
     "name": "stderr",
     "output_type": "stream",
     "text": [
      "\r"
     ]
    }
   ],
   "source": [
    "if __name__ == \"__main__\":\n",
    "    b_metrics, b_predictions, b_targets = evaluate(base_model, test_loader, device)\n",
    "    print(\"Before Training Metrics:\", b_metrics)\n",
    "    for epoch in range(1):\n",
    "        print(f\"Epoch: {epoch+1}\")\n",
    "        metrics = train_epoch(model, train_loader, optimizer, device)\n",
    "        print(\"Training Metrics:\", metrics)\n",
    "        a_metrics, a_predictions, a_targets = evaluate(model, test_loader, device)\n",
    "        print(\"After Training Metrics:\", a_metrics)"
   ]
  },
  {
   "cell_type": "code",
   "execution_count": 14,
   "metadata": {
    "execution": {
     "iopub.execute_input": "2025-05-09T15:02:58.417262Z",
     "iopub.status.busy": "2025-05-09T15:02:58.416649Z",
     "iopub.status.idle": "2025-05-09T18:06:11.658086Z",
     "shell.execute_reply": "2025-05-09T18:06:11.657278Z",
     "shell.execute_reply.started": "2025-05-09T15:02:58.417239Z"
    },
    "trusted": true
   },
   "outputs": [
    {
     "name": "stdout",
     "output_type": "stream",
     "text": [
      "Epoch: 1\n"
     ]
    },
    {
     "name": "stderr",
     "output_type": "stream",
     "text": [
      "                                                                                 \r"
     ]
    },
    {
     "name": "stdout",
     "output_type": "stream",
     "text": [
      "Training Metrics: {'MSE': 0.017572109, 'MAE': 0.09370793, 'R2': 0.8354091028415225}\n"
     ]
    },
    {
     "name": "stderr",
     "output_type": "stream",
     "text": [
      "                                                               "
     ]
    },
    {
     "name": "stdout",
     "output_type": "stream",
     "text": [
      "After Training Metrics: {'MSE': 0.016555635, 'MAE': 0.09152421, 'R2': 0.8449381563201522}\n"
     ]
    },
    {
     "name": "stderr",
     "output_type": "stream",
     "text": [
      "\r"
     ]
    }
   ],
   "source": [
    "for epoch in range(1):\n",
    "    print(f\"Epoch: {epoch+1}\")\n",
    "    metrics = train_epoch(model, train_loader, optimizer, device)\n",
    "    print(\"Training Metrics:\", metrics)\n",
    "    a_metrics, a_predictions, a_targets = evaluate(model, test_loader, device)\n",
    "    print(\"After Training Metrics:\", a_metrics)"
   ]
  },
  {
   "cell_type": "code",
   "execution_count": 15,
   "metadata": {
    "execution": {
     "iopub.execute_input": "2025-05-09T18:06:11.659602Z",
     "iopub.status.busy": "2025-05-09T18:06:11.659350Z",
     "iopub.status.idle": "2025-05-09T21:09:23.306555Z",
     "shell.execute_reply": "2025-05-09T21:09:23.305896Z",
     "shell.execute_reply.started": "2025-05-09T18:06:11.659577Z"
    },
    "trusted": true
   },
   "outputs": [
    {
     "name": "stdout",
     "output_type": "stream",
     "text": [
      "Epoch: 1\n"
     ]
    },
    {
     "name": "stderr",
     "output_type": "stream",
     "text": [
      "                                                                                 \r"
     ]
    },
    {
     "name": "stdout",
     "output_type": "stream",
     "text": [
      "Training Metrics: {'MSE': 0.014665449, 'MAE': 0.086263776, 'R2': 0.8626345968287903}\n"
     ]
    },
    {
     "name": "stderr",
     "output_type": "stream",
     "text": [
      "                                                               "
     ]
    },
    {
     "name": "stdout",
     "output_type": "stream",
     "text": [
      "After Training Metrics: {'MSE': 0.015565269, 'MAE': 0.087494865, 'R2': 0.8542140414281317}\n"
     ]
    },
    {
     "name": "stderr",
     "output_type": "stream",
     "text": [
      "\r"
     ]
    }
   ],
   "source": [
    "for epoch in range(1):\n",
    "    print(f\"Epoch: {epoch+1}\")\n",
    "    metrics = train_epoch(model, train_loader, optimizer, device)\n",
    "    print(\"Training Metrics:\", metrics)\n",
    "    a_metrics, a_predictions, a_targets = evaluate(model, test_loader, device)\n",
    "    print(\"After Training Metrics:\", a_metrics)"
   ]
  },
  {
   "cell_type": "code",
   "execution_count": 16,
   "metadata": {
    "execution": {
     "iopub.execute_input": "2025-05-09T21:09:33.898896Z",
     "iopub.status.busy": "2025-05-09T21:09:33.898368Z",
     "iopub.status.idle": "2025-05-09T21:09:33.977711Z",
     "shell.execute_reply": "2025-05-09T21:09:33.976961Z",
     "shell.execute_reply.started": "2025-05-09T21:09:33.898873Z"
    },
    "trusted": true
   },
   "outputs": [],
   "source": [
    "from peft import PeftModel\n",
    "\n",
    "model.save_pretrained(\"lora_deberta_adapter_final_2\")\n"
   ]
  },
  {
   "cell_type": "code",
   "execution_count": 17,
   "metadata": {
    "execution": {
     "iopub.execute_input": "2025-05-09T21:09:38.524244Z",
     "iopub.status.busy": "2025-05-09T21:09:38.523682Z",
     "iopub.status.idle": "2025-05-09T21:09:40.103633Z",
     "shell.execute_reply": "2025-05-09T21:09:40.102483Z",
     "shell.execute_reply.started": "2025-05-09T21:09:38.524223Z"
    },
    "trusted": true
   },
   "outputs": [
    {
     "data": {
      "image/png": "[encoded data removed]",
      "text/plain": [
       "<Figure size 500x400 with 1 Axes>"
      ]
     },
     "metadata": {},
     "output_type": "display_data"
    },
    {
     "data": {
      "image/png": "[encoded data removed]",
      "text/plain": [
       "<Figure size 500x400 with 1 Axes>"
      ]
     },
     "metadata": {},
     "output_type": "display_data"
    },
    {
     "data": {
      "image/png": "[encoded data removed]",
      "text/plain": [
       "<Figure size 500x400 with 1 Axes>"
      ]
     },
     "metadata": {},
     "output_type": "display_data"
    },
    {
     "data": {
      "image/png": "[encoded data removed]",
      "text/plain": [
       "<Figure size 600x600 with 1 Axes>"
      ]
     },
     "metadata": {},
     "output_type": "display_data"
    }
   ],
   "source": [
    "metrics_to_plot = ['MSE', 'MAE', 'R2']\n",
    "b_values = [b_metrics[m] for m in metrics_to_plot]\n",
    "a_values = [a_metrics[m] for m in metrics_to_plot]\n",
    "\n",
    "\n",
    "for i, metric in enumerate(metrics_to_plot):\n",
    "    plt.figure(figsize=(5, 4))\n",
    "    plt.bar(['Before LoRA', 'After LoRA'], [b_values[i], a_values[i]], color=['skyblue', 'salmon'])\n",
    "    plt.title(f'{metric} Comparison')\n",
    "    plt.ylabel(metric)\n",
    "    plt.tight_layout()\n",
    "    plt.show()\n",
    "\n",
    "\n",
    "plt.figure(figsize=(6, 6))\n",
    "plt.scatter(b_targets, b_predictions, alpha=0.5, label=\"Before LoRA\")\n",
    "plt.scatter(a_targets, a_predictions, alpha=0.5, label=\"After LoRA\")\n",
    "min_val = min(min(b_targets), min(a_targets))\n",
    "max_val = max(max(b_targets), max(a_targets))\n",
    "plt.plot([min_val, max_val], [min_val, max_val], 'r--', label=\"Ideal\")\n",
    "plt.xlabel(\"Actual Scores\")\n",
    "plt.ylabel(\"Predicted Scores\")\n",
    "plt.title(\"Predicted vs Actual Scores\")\n",
    "plt.legend()\n",
    "plt.grid(True)\n",
    "plt.tight_layout()\n",
    "plt.show()\n"
   ]
  },
  {
   "cell_type": "code",
   "execution_count": null,
   "metadata": {
    "execution": {
     "execution_failed": "2025-05-09T11:36:27.663Z"
    },
    "trusted": true
   },
   "outputs": [],
   "source": [
    "save_structured_output(test_texts.tolist(), a_predictions, a_targets, output_prefix=\"model_output_V2\")"
   ]
  },
  {
   "cell_type": "code",
   "execution_count": null,
   "metadata": {
    "execution": {
     "execution_failed": "2025-05-09T11:36:27.663Z"
    },
    "trusted": true
   },
   "outputs": [],
   "source": [
    "def predict_feedback(model, tokenizer, text, device, max_length=512):\n",
    "    model.eval()\n",
    "    model.to(device)\n",
    "    text_cleaned = clean_text(text)\n",
    "\n",
    "    tokens = tokenizer(\n",
    "        text_cleaned,\n",
    "        return_tensors=\"pt\",\n",
    "        max_length=max_length,\n",
    "        padding=\"max_length\",\n",
    "        truncation=True\n",
    "    )\n",
    "\n",
    "    input_ids = tokens[\"input_ids\"].to(device)\n",
    "    attention_mask = tokens[\"attention_mask\"].to(device)\n",
    "\n",
    "    with torch.no_grad():\n",
    "        pred = model(input_ids=input_ids, attention_mask=attention_mask)\n",
    "\n",
    "    predicted_score = pred.item()\n",
    "\n",
    "    # Feedback logic\n",
    "    if predicted_score >= 0.6:\n",
    "        overall = \"This essay is strong overall, showing excellent organization, development of ideas, and clarity in expression.\"\n",
    "        strengths = \"Ideas are well-structured, arguments are persuasive, and language use is mostly mature and accurate.\"\n",
    "        improvements = \"Polish minor grammar issues and ensure transitions are smooth to reach perfection.\"\n",
    "    elif predicted_score >= 0.3:\n",
    "        overall = \"This essay is moderately effective, with some clear ideas but also noticeable issues in structure or grammar.\"\n",
    "        strengths = \"The essay communicates a clear message and shows effort in supporting ideas with examples.\"\n",
    "        improvements = \"Focus on improving sentence structure, grammar, and the logical flow between paragraphs.\"\n",
    "    else:\n",
    "        overall = \"This essay is underdeveloped and difficult to follow, with significant issues in structure and language.\"\n",
    "        strengths = \"The attempt to engage with the topic is visible.\"\n",
    "        improvements = \"Focus on organizing your thoughts clearly, using proper grammar, and fully developing your main ideas.\"\n",
    "\n",
    "    return {\n",
    "        \"predicted_score\": predicted_score,\n",
    "        \"overall_evaluation\": overall,\n",
    "        \"strengths\": strengths,\n",
    "        \"areas_for_improvement\": improvements\n",
    "    }\n"
   ]
  },
  {
   "cell_type": "code",
   "execution_count": null,
   "metadata": {
    "execution": {
     "execution_failed": "2025-05-09T11:36:27.664Z"
    },
    "trusted": true
   },
   "outputs": [],
   "source": [
    "essay = \"\"\"\n",
    "Standardized testing has long been used to measure student achievement, but it fails to capture the full scope of a student’s abilities. \n",
    "While some argue that tests provide objective data, they often reduce learning to memorization rather than critical thinking. \n",
    "A single test cannot reflect creativity, collaboration, or problem-solving skills—all essential in real-world settings. \n",
    "Moreover, standardized exams disproportionately disadvantage students from under-resourced backgrounds, reinforcing existing inequalities. \n",
    "Instead of focusing on test scores, schools should adopt a more holistic approach to assessment. \n",
    "Project-based learning, portfolios, and teacher evaluations offer more comprehensive insights into student growth. \n",
    "Countries like Finland, known for top-performing education systems, have minimized standardized testing and instead emphasize trust in teachers and student-centered learning. \n",
    "Their success demonstrates that meaningful education doesn’t need to be driven by exams. \n",
    "In conclusion, standardized tests should not define academic success. \n",
    "Schools must evolve to measure what truly matters: the ability to think, create, and apply knowledge in diverse contexts.\n",
    "\"\"\"\n",
    "result = predict_feedback(model, tokenizer, essay, device)\n",
    "print(\"Predicted Score:\", result['predicted_score'])\n",
    "print(\"Overall Evaluation:\", result['overall_evaluation'])\n",
    "print(\"Strengths:\", result['strengths'])\n",
    "print(\"Areas for Improvement:\", result['areas_for_improvement'])\n"
   ]
  },
  {
   "cell_type": "code",
   "execution_count": 4,
   "metadata": {},
   "outputs": [
    {
     "name": "stdout",
     "output_type": "stream",
     "text": [
      "Feedback based on predicted score saved to 'model_final_outputs.json'.\n"
     ]
    }
   ],
   "source": [
    "def generate_feedback_based_on_prediction(predicted_score):\n",
    "    if predicted_score >= 0.7:\n",
    "        overall = \"This essay is strong overall, showing excellent organization, development of ideas, and clarity in expression.\"\n",
    "        strengths = \"Ideas are well-structured, arguments are persuasive, and language use is mostly mature and accurate.\"\n",
    "        improvements = \"Polish minor grammar issues and ensure transitions are smooth to reach perfection.\"\n",
    "\n",
    "    elif predicted_score >= 0.5:\n",
    "        overall = \"This essay is fairly effective, with generally clear ideas and good effort in structure.\"\n",
    "        strengths = \"The essay presents organized thoughts and some persuasive arguments.\"\n",
    "        improvements = \"Work on refining grammar and strengthening transitions between points.\"\n",
    "\n",
    "    elif predicted_score >= 0.3:\n",
    "        overall = \"This essay has potential but needs improvement in structure, clarity, and development.\"\n",
    "        strengths = \"There are some clear ideas, and an effort to support them is noticeable.\"\n",
    "        improvements = \"Improve sentence flow, avoid repetition, and develop arguments more fully.\"\n",
    "\n",
    "    else:\n",
    "        overall = \"This essay is underdeveloped and difficult to follow, with significant issues in structure and language.\"\n",
    "        strengths = \"The attempt to engage with the topic is visible.\"\n",
    "        improvements = \"Focus on organizing your thoughts clearly, using proper grammar, and fully developing your main ideas.\"\n",
    "\n",
    "    return {\n",
    "        \"overall_evaluation\": overall,\n",
    "        \"strengths\": strengths,\n",
    "        \"areas_for_improvement\": improvements\n",
    "    }\n",
    "\n",
    "with open(\"model_output_V2.json\", \"r\", encoding=\"utf-8\") as f:\n",
    "    essays = json.load(f)\n",
    "\n",
    "for essay in essays:\n",
    "    pred = essay.get(\"predicted_score\", 0.0)\n",
    "    essay[\"feedback\"] = generate_feedback_based_on_prediction(pred)\n",
    "\n",
    "with open(\"model_final_outputs_2.json\", \"w\", encoding=\"utf-8\") as f:\n",
    "    json.dump(essays, f, indent=4, ensure_ascii=False)\n",
    "\n",
    "print(\"Feedback based on predicted score saved to 'model_final_outputs.json'.\")"
   ]
  }
 ],
 "metadata": {
  "kaggle": {
   "accelerator": "gpu",
   "dataSources": [
    {
     "datasetId": 7348338,
     "sourceId": 11707473,
     "sourceType": "datasetVersion"
    }
   ],
   "dockerImageVersionId": 31012,
   "isGpuEnabled": true,
   "isInternetEnabled": true,
   "language": "python",
   "sourceType": "notebook"
  },
  "kernelspec": {
   "display_name": "Python 3",
   "language": "python",
   "name": "python3"
  },
  "language_info": {
   "codemirror_mode": {
    "name": "ipython",
    "version": 3
   },
   "file_extension": ".py",
   "mimetype": "text/x-python",
   "name": "python",
   "nbconvert_exporter": "python",
   "pygments_lexer": "ipython3",
   "version": "3.12.0"
  }
 },
 "nbformat": 4,
 "nbformat_minor": 4
}
